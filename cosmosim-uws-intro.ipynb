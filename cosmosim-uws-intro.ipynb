{
 "cells": [
  {
   "cell_type": "markdown",
   "metadata": {
    "deletable": true,
    "editable": true
   },
   "source": [
    "# Exploring cosmological simulations with CosmoSim\n",
    "## Introduction to job handling with uws-client\n",
    "\n",
    "CosmoSim is a web application available at http://www.cosmosim.org/ where data from cosmological simulations is available. This includes catalogues of dark matter halos (clusters) and galaxies for different time steps during the evolution of the simulated universe, merging information, substructure data, density fields and more.\n",
    "\n",
    "In this tutorial, we will use the [uws-client](https://github.com/aipescience/uws-client) for connecting with CosmoSim's UWS-interface for seeing your list of jobs, sending jobs and retrieving results."
   ]
  },
  {
   "cell_type": "markdown",
   "metadata": {
    "deletable": true,
    "editable": true
   },
   "source": [
    "## Imports\n",
    "Import the necessary libraries and the UWS module from the uws-client:"
   ]
  },
  {
   "cell_type": "code",
   "execution_count": null,
   "metadata": {
    "collapsed": true,
    "deletable": true,
    "editable": true
   },
   "outputs": [],
   "source": [
    "# load astropy for reading VOTABLE format\n",
    "from astropy.io.votable import parse_single_table\n",
    "\n",
    "# import matplotlib for plotting results, mplot3d for 3D plots\n",
    "import matplotlib.pyplot as plt\n",
    "from mpl_toolkits.mplot3d import Axes3D"
   ]
  },
  {
   "cell_type": "code",
   "execution_count": null,
   "metadata": {
    "collapsed": false,
    "deletable": true,
    "editable": true
   },
   "outputs": [],
   "source": [
    "# import sys\n",
    "# sys.path.append('<your own path>/uws-client')\n",
    "\n",
    "from uws import UWS"
   ]
  },
  {
   "cell_type": "markdown",
   "metadata": {
    "deletable": true,
    "editable": true
   },
   "source": [
    "## Setup the connection\n",
    "\n",
    "The URL for connecting with CosmoSim's uws-client is 'https://www.cosmosim.org/uws/query/'. You also need to define your username and password, either by inserting it directly below or by saving your credentials in a local cosmosim-user.json file and reading it here. The credentials are the same as on the CosmoSim webpage. If you do not have an account yet, please register at [CosmoSim registration](https://www.cosmosim.org/auth/registration/register). Alternatively, you can use the user `uwstest` with password `gavo` for testing purposes. (Be aware that anyone can use this user and delete your results at any time!)\n"
   ]
  },
  {
   "cell_type": "code",
   "execution_count": null,
   "metadata": {
    "collapsed": false,
    "deletable": true,
    "editable": true
   },
   "outputs": [],
   "source": [
    "# set credentials here:\n",
    "# username = 'uwstest'\n",
    "# password = 'gavo'\n",
    "\n",
    "# or read your own username and password from a json-file,\n",
    "# format: { \"username\": \"<yourname>\", \"password\": \"<your password>\" }\n",
    "import json\n",
    "with open('cosmosim-user.json') as credentials_file:    \n",
    "    username, password = json.load(credentials_file).values()\n",
    "\n",
    "url = 'https://www.cosmosim.org/uws/query/'\n",
    "c = UWS.client.Client(url, username, password)"
   ]
  },
  {
   "cell_type": "markdown",
   "metadata": {
    "deletable": true,
    "editable": true
   },
   "source": [
    "## List previous jobs\n",
    "Once the connection is set up, you can retrieve the list of previously run jobs with `c.get_job_list()`. You can also provide extra filters for the job list, e.g. filtering by phase or creation time of the job or just output the most recent ones using the `last` keyword."
   ]
  },
  {
   "cell_type": "code",
   "execution_count": null,
   "metadata": {
    "collapsed": false,
    "deletable": true,
    "editable": true
   },
   "outputs": [],
   "source": [
    "filters = {'phases': ['PENDING', 'COMPLETED', 'ERROR'], 'last': 5}\n",
    "jobs = c.get_job_list(filters)\n",
    "\n",
    "# printing the returned resulting jobs-object gives a list of jobs\n",
    "print jobs"
   ]
  },
  {
   "cell_type": "markdown",
   "metadata": {
    "deletable": true,
    "editable": true
   },
   "source": [
    "For each job, its unique id, ownerId, creationTime and phase are stored within this job list. \n",
    "At CosmoSim, we store the table name as the `runId` for each job. If no table name was given during job creation, the current timestamp is used."
   ]
  },
  {
   "cell_type": "code",
   "execution_count": null,
   "metadata": {
    "collapsed": false,
    "deletable": true,
    "editable": true
   },
   "outputs": [],
   "source": [
    "print \"# jobId, ownerId, creationTime, phase, runId:\"\n",
    "for job in jobs.job_reference:\n",
    "    print job.id, job.ownerId, job.creationTime, job.phase[0], job.runId"
   ]
  },
  {
   "cell_type": "markdown",
   "metadata": {
    "deletable": true,
    "editable": true
   },
   "source": [
    "## Create, check and run a job\n",
    "\n",
    "For creating a new job, first define the necessary parameters. For CosmoSim this is `query`, which is the SQL string and the optional parameters `queue` (long or short) and `table` (a unique table name). We set here an SQL query that will select the 10 most massive clusters from the MDPL2 simulation, Rockstar catalog."
   ]
  },
  {
   "cell_type": "code",
   "execution_count": null,
   "metadata": {
    "collapsed": true,
    "deletable": true,
    "editable": true
   },
   "outputs": [],
   "source": [
    "parameters = {'query': \n",
    "              'SELECT rockstarId, x,y,z, Mvir FROM MDPL2.Rockstar'\\\n",
    "                + ' WHERE snapnum=125 ORDER BY Mvir DESC LIMIT 10',\n",
    "              'queue': 'short'}"
   ]
  },
  {
   "cell_type": "markdown",
   "metadata": {
    "deletable": true,
    "editable": true
   },
   "source": [
    "Now **create a new job** with these parameters:"
   ]
  },
  {
   "cell_type": "code",
   "execution_count": null,
   "metadata": {
    "collapsed": false,
    "deletable": true,
    "editable": true
   },
   "outputs": [],
   "source": [
    "job = c.new_job(parameters)"
   ]
  },
  {
   "cell_type": "markdown",
   "metadata": {
    "deletable": true,
    "editable": true
   },
   "source": [
    "And print the job's id and phase:"
   ]
  },
  {
   "cell_type": "code",
   "execution_count": null,
   "metadata": {
    "collapsed": false,
    "deletable": true,
    "editable": true
   },
   "outputs": [],
   "source": [
    "print job.job_id, job.phase[0]"
   ]
  },
  {
   "cell_type": "markdown",
   "metadata": {
    "deletable": true,
    "editable": true
   },
   "source": [
    "The job is created now, but it is not started yet - you can still adjust its parameters with c.set_parameters_job. E.g. let's change the queue to long:"
   ]
  },
  {
   "cell_type": "code",
   "execution_count": null,
   "metadata": {
    "collapsed": false,
    "deletable": true,
    "editable": true
   },
   "outputs": [],
   "source": [
    "update_params = {'queue': 'long'}\n",
    "job = c.set_parameters_job(job.job_id, update_params)"
   ]
  },
  {
   "cell_type": "markdown",
   "metadata": {
    "deletable": true,
    "editable": true
   },
   "source": [
    "Print the parameters to check this:"
   ]
  },
  {
   "cell_type": "code",
   "execution_count": null,
   "metadata": {
    "collapsed": false,
    "deletable": true,
    "editable": true
   },
   "outputs": [],
   "source": [
    "for p in job.parameters:\n",
    "    print p.id, p.value"
   ]
  },
  {
   "cell_type": "markdown",
   "metadata": {
    "deletable": true,
    "editable": true
   },
   "source": [
    "Now **start the job**, i.e. put it into the job queue using `run_job`:"
   ]
  },
  {
   "cell_type": "code",
   "execution_count": null,
   "metadata": {
    "collapsed": false,
    "deletable": true,
    "editable": true
   },
   "outputs": [],
   "source": [
    "run = c.run_job(job.job_id)\n",
    "print run.job_id"
   ]
  },
  {
   "cell_type": "markdown",
   "metadata": {
    "deletable": true,
    "editable": true
   },
   "source": [
    "The job should now also be visible in the web interface, at the Query Interface, left side, under 'Jobs'.  \n",
    "Let's check the job's phase: "
   ]
  },
  {
   "cell_type": "code",
   "execution_count": null,
   "metadata": {
    "collapsed": false,
    "deletable": true,
    "editable": true
   },
   "outputs": [],
   "source": [
    "job = c.get_job(run.job_id)\n",
    "print job.phase[0]\n"
   ]
  },
  {
   "cell_type": "markdown",
   "metadata": {
    "deletable": true,
    "editable": true
   },
   "source": [
    "You can also use the `wait` parameter to wait at most the specified number of seconds until the phase has changed:"
   ]
  },
  {
   "cell_type": "code",
   "execution_count": null,
   "metadata": {
    "collapsed": false,
    "deletable": true,
    "editable": true
   },
   "outputs": [],
   "source": [
    "job = c.get_job(run.job_id, '10', 'QUEUED')\n",
    "print job.phase[0]"
   ]
  },
  {
   "cell_type": "markdown",
   "metadata": {
    "deletable": true,
    "editable": true
   },
   "source": [
    "Repeat the step above using \"EXECUTING\" as job phase until the job phase is \"COMPLETED\"."
   ]
  },
  {
   "cell_type": "code",
   "execution_count": null,
   "metadata": {
    "collapsed": false,
    "deletable": true,
    "editable": true
   },
   "outputs": [],
   "source": [
    "job = c.get_job(run.job_id, '10', 'EXECUTING')\n",
    "print job.phase[0]"
   ]
  },
  {
   "cell_type": "markdown",
   "metadata": {
    "deletable": true,
    "editable": true
   },
   "source": [
    "## Get the results"
   ]
  },
  {
   "cell_type": "markdown",
   "metadata": {
    "deletable": true,
    "editable": true
   },
   "source": [
    "Once your job is in \"COMPLETED\" phase, you can retrieve the results.\n",
    "\n",
    "Print the job result entries:"
   ]
  },
  {
   "cell_type": "code",
   "execution_count": null,
   "metadata": {
    "collapsed": false,
    "deletable": true,
    "editable": true
   },
   "outputs": [],
   "source": [
    "for r in job.results:\n",
    "    print r"
   ]
  },
  {
   "cell_type": "markdown",
   "metadata": {
    "deletable": true,
    "editable": true
   },
   "source": [
    "With `r.reference` you can access the URL of each result. Let's download the results in VOTABLE format:"
   ]
  },
  {
   "cell_type": "code",
   "execution_count": null,
   "metadata": {
    "collapsed": false,
    "deletable": true,
    "editable": true
   },
   "outputs": [],
   "source": [
    "fileurl = str(job.results[1].reference)\n",
    "resultfilename = \"result.xml\"\n",
    "success = c.connection.download_file(fileurl, username, password, file_name=resultfilename)\n",
    "if not success:\n",
    "    print \"File could not be downloaded, please check the job phase and result urls.\"\n",
    "else:\n",
    "    print \"File downloaded successfully.\""
   ]
  },
  {
   "cell_type": "markdown",
   "metadata": {
    "deletable": true,
    "editable": true
   },
   "source": [
    "Since there is only one table, we can quickly read the VOTABLE into a numpy array using astropy:"
   ]
  },
  {
   "cell_type": "code",
   "execution_count": null,
   "metadata": {
    "collapsed": false,
    "deletable": true,
    "editable": true
   },
   "outputs": [],
   "source": [
    "table = parse_single_table(resultfilename, pedantic=False)\n",
    "data = table.array"
   ]
  },
  {
   "cell_type": "markdown",
   "metadata": {
    "deletable": true,
    "editable": true
   },
   "source": [
    "Print the results row by row:"
   ]
  },
  {
   "cell_type": "code",
   "execution_count": null,
   "metadata": {
    "collapsed": false,
    "deletable": true,
    "editable": true
   },
   "outputs": [],
   "source": [
    "print data"
   ]
  },
  {
   "cell_type": "markdown",
   "metadata": {
    "deletable": true,
    "editable": true
   },
   "source": [
    "Or print only a column:"
   ]
  },
  {
   "cell_type": "code",
   "execution_count": null,
   "metadata": {
    "collapsed": false,
    "deletable": true,
    "editable": true
   },
   "outputs": [],
   "source": [
    "print data['x']"
   ]
  },
  {
   "cell_type": "markdown",
   "metadata": {
    "deletable": true,
    "editable": true
   },
   "source": [
    "Get the units for x and y values:"
   ]
  },
  {
   "cell_type": "code",
   "execution_count": null,
   "metadata": {
    "collapsed": false,
    "deletable": true,
    "editable": true
   },
   "outputs": [],
   "source": [
    "field = table.get_field_by_id('x')\n",
    "unit_x = field.unit\n",
    "field = table.get_field_by_id('y')\n",
    "unit_y = field.unit\n",
    "\n",
    "print \"Units for x and y: \", unit_x, unit_y"
   ]
  },
  {
   "cell_type": "markdown",
   "metadata": {
    "deletable": true,
    "editable": true
   },
   "source": [
    "## Plot results"
   ]
  },
  {
   "cell_type": "code",
   "execution_count": null,
   "metadata": {
    "collapsed": false,
    "deletable": true,
    "editable": true
   },
   "outputs": [],
   "source": [
    "%matplotlib inline\n",
    "ax = plt.subplot(111)\n",
    "\n",
    "# set axis labels\n",
    "ax.set_xlabel('x [' + str(unit_x) + ']')\n",
    "ax.set_ylabel('y [' + str(unit_y) + ']')\n",
    "\n",
    "# set axis range\n",
    "ax.set_xlim(0, 1000)\n",
    "ax.set_ylim(0, 1000)\n",
    "\n",
    "# plot data,\n",
    "# using decreasing point size,\n",
    "# so the biggest point is the most massive object\n",
    "s = range(20,0,-2)\n",
    "ax.scatter(data['x'], data['y'], s, color='b');\n",
    "plt.show()"
   ]
  },
  {
   "cell_type": "markdown",
   "metadata": {
    "deletable": true,
    "editable": true
   },
   "source": [
    "## Delete job\n",
    "\n",
    "Delete the job on the server, because we don't need it anymore:"
   ]
  },
  {
   "cell_type": "code",
   "execution_count": null,
   "metadata": {
    "collapsed": false,
    "deletable": true,
    "editable": true
   },
   "outputs": [],
   "source": [
    "deleted = c.delete_job(job.job_id)\n",
    "deleted"
   ]
  },
  {
   "cell_type": "markdown",
   "metadata": {
    "deletable": true,
    "editable": true
   },
   "source": [
    "## Example: Retrieve progenitors of a halo\n",
    "\n",
    "Let's do a more elaborate example: for the most massive dark matter halo from the previous query, get its progenitors that merged into this halo and plot their positions over time. We restrict the progenitors to those with mass > 1.e12/h solar masses."
   ]
  },
  {
   "cell_type": "code",
   "execution_count": null,
   "metadata": {
    "collapsed": false,
    "deletable": true,
    "editable": true
   },
   "outputs": [],
   "source": [
    "# store id of most massive dark matter halo from query before\n",
    "most_massive_rockstarId = data[0]['rockstarId']"
   ]
  },
  {
   "cell_type": "code",
   "execution_count": null,
   "metadata": {
    "collapsed": true,
    "deletable": true,
    "editable": true
   },
   "outputs": [],
   "source": [
    "query = \"\"\"\n",
    "SELECT p.rockstarId, p.snapnum as snapnum, p.x as x, p.y as y, p.z as z, p.Mvir as Mvir, p.Rvir as Rvir\n",
    "FROM MDPL2.Rockstar AS p,\n",
    "  (SELECT depthFirstId, lastProg_depthFirstId FROM MDPL2.Rockstar\n",
    "  WHERE rockstarId = \"\"\" + str(most_massive_rockstarId) + \"\"\") AS m\n",
    "WHERE p.depthFirstId BETWEEN m.depthFirstId AND m.lastProg_depthFirstId\n",
    "AND p.Mvir > 5.e11\n",
    "ORDER BY snapnum\n",
    "\"\"\"\n"
   ]
  },
  {
   "cell_type": "markdown",
   "metadata": {
    "deletable": true,
    "editable": true
   },
   "source": [
    "Create and start the job:"
   ]
  },
  {
   "cell_type": "code",
   "execution_count": null,
   "metadata": {
    "collapsed": false,
    "deletable": true,
    "editable": true
   },
   "outputs": [],
   "source": [
    "job = c.new_job({'query': query, 'queue': 'long'})\n",
    "if job.phase[0] != \"PENDING\":\n",
    "    print \"ERROR: not in pending phase!\"\n",
    "else:\n",
    "    run = c.run_job(job.job_id)\n",
    "print job.phase[0]"
   ]
  },
  {
   "cell_type": "markdown",
   "metadata": {
    "deletable": true,
    "editable": true
   },
   "source": [
    "Check the status and wait until it is finished (this can take a couple of minutes!!):"
   ]
  },
  {
   "cell_type": "code",
   "execution_count": null,
   "metadata": {
    "collapsed": false,
    "deletable": true,
    "editable": true
   },
   "outputs": [],
   "source": [
    "job = c.get_job(run.job_id, '60', 'QUEUED')\n",
    "print \"Time out or job is not in QUEUED phase anymore.\"\n",
    "job = c.get_job(run.job_id, '60', 'EXECUTING')\n",
    "print \"Time out or job is not in EXECUTING phase anymore.\"\n",
    "print \"Job phase: \", job.phase[0]\n",
    "print job"
   ]
  },
  {
   "cell_type": "markdown",
   "metadata": {
    "deletable": true,
    "editable": true
   },
   "source": [
    "Retrieve the results:"
   ]
  },
  {
   "cell_type": "code",
   "execution_count": null,
   "metadata": {
    "collapsed": false,
    "deletable": true,
    "editable": true
   },
   "outputs": [],
   "source": [
    "fileurl = str(job.results[1].reference)\n",
    "resultfilename = \"result.xml\"\n",
    "success = c.connection.download_file(fileurl, username, password, file_name=resultfilename)\n",
    "if not success:\n",
    "    print \"File could not be downloaded, please check the job phase and result urls.\"\n",
    "else:\n",
    "    print \"File downloaded successfully.\""
   ]
  },
  {
   "cell_type": "markdown",
   "metadata": {
    "deletable": true,
    "editable": true
   },
   "source": [
    "Plot the positions of the progenitor halos, colored by snapshot number (increasing time):"
   ]
  },
  {
   "cell_type": "code",
   "execution_count": null,
   "metadata": {
    "collapsed": false,
    "deletable": true,
    "editable": true
   },
   "outputs": [],
   "source": [
    "table = parse_single_table(resultfilename, pedantic=False)\n",
    "data = table.array\n",
    "\n",
    "field = table.get_field_by_id('x')\n",
    "unit_x = field.unit\n",
    "field = table.get_field_by_id('y')\n",
    "unit_y = field.unit\n",
    "field = table.get_field_by_id('z')\n",
    "unit_z = field.unit\n"
   ]
  },
  {
   "cell_type": "code",
   "execution_count": null,
   "metadata": {
    "collapsed": false,
    "deletable": true,
    "editable": true
   },
   "outputs": [],
   "source": [
    "%matplotlib inline\n",
    "ax = plt.subplot(111)\n",
    "\n",
    "# set axis labels\n",
    "ax.set_xlabel('x [' + str(unit_x) + ']')\n",
    "ax.set_ylabel('y [' + str(unit_y) + ']')\n",
    "\n",
    "# plot data,\n",
    "# color by snapnum, i.e. snapshot number, i.e. increasing time\n",
    "cm = plt.cm.get_cmap('viridis')\n",
    "sc = ax.scatter(data['x'], data['y'], s=0.7, c=data['snapnum'], alpha=0.5, cmap=cm)\n",
    "plt.colorbar(sc)\n",
    "plt.show()"
   ]
  },
  {
   "cell_type": "markdown",
   "metadata": {
    "deletable": true,
    "editable": true
   },
   "source": [
    "Now use an interactive 3D plot instead:"
   ]
  },
  {
   "cell_type": "code",
   "execution_count": null,
   "metadata": {
    "collapsed": false,
    "deletable": true,
    "editable": true
   },
   "outputs": [],
   "source": [
    "# Make an interactive 3D plot\n",
    "%matplotlib notebook\n",
    "fig = plt.figure()\n",
    "\n",
    "ax = fig.add_subplot(111, projection='3d')\n",
    "\n",
    "# set axis labels\n",
    "ax.set_xlabel('x [' + str(unit_x) + ']')\n",
    "ax.set_ylabel('y [' + str(unit_y) + ']')\n",
    "ax.set_zlabel('z [' + str(unit_z) + ']')\n",
    "\n",
    "# plot the data\n",
    "cm = plt.cm.get_cmap('plasma')\n",
    "\n",
    "ax.scatter(data['x'], data['y'], data['z'], s=0.7, c=data['snapnum'], depthshade=True, cmap=cm)\n",
    "plt.show()"
   ]
  },
  {
   "cell_type": "markdown",
   "metadata": {
    "deletable": true,
    "editable": true
   },
   "source": [
    "Delete your job on the server:"
   ]
  },
  {
   "cell_type": "code",
   "execution_count": null,
   "metadata": {
    "collapsed": false,
    "deletable": true,
    "editable": true
   },
   "outputs": [],
   "source": [
    "deleted = c.delete_job(job.job_id)\n",
    "deleted"
   ]
  }
 ],
 "metadata": {
  "kernelspec": {
   "display_name": "Python 2",
   "language": "python",
   "name": "python2"
  },
  "language_info": {
   "codemirror_mode": {
    "name": "ipython",
    "version": 2
   },
   "file_extension": ".py",
   "mimetype": "text/x-python",
   "name": "python",
   "nbconvert_exporter": "python",
   "pygments_lexer": "ipython2",
   "version": "2.7.12"
  }
 },
 "nbformat": 4,
 "nbformat_minor": 2
}
