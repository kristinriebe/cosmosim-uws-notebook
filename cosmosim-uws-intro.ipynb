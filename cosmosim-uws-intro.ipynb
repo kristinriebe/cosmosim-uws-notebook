{
 "cells": [
  {
   "cell_type": "markdown",
   "metadata": {},
   "source": [
    "# Exploring cosmological simulations with CosmoSim\n",
    "## Introduction to job handling with uws-client\n",
    "\n",
    "CosmoSim is a web application available at http://www.cosmosim.org/ where data from cosmological simulations is available. This includes catalogues of dark matter halos (clusters) and galaxies for different time steps during the evolution of the simulated universe, merging information, substructure data, density fields and more.\n",
    "\n",
    "In this tutorial, we will use the [uws-client](https://github.com/aipescience/uws-client) for connecting with CosmoSim's UWS-interface for seeing your list of jobs, sending jobs and retrieving results."
   ]
  },
  {
   "cell_type": "markdown",
   "metadata": {},
   "source": [
    "## Imports\n",
    "Import the necessary libraries and the UWS module from the uws-client:"
   ]
  },
  {
   "cell_type": "code",
   "execution_count": 212,
   "metadata": {
    "collapsed": true
   },
   "outputs": [],
   "source": [
    "# load astropy for reading VOTABLE format\n",
    "from astropy.io.votable import parse_single_table\n",
    "\n",
    "# import matplotlib for plotting results\n",
    "import matplotlib.pyplot as plt"
   ]
  },
  {
   "cell_type": "code",
   "execution_count": 213,
   "metadata": {
    "collapsed": false
   },
   "outputs": [],
   "source": [
    "# import sys\n",
    "# sys.path.append('<your own path>/uws-client')\n",
    "\n",
    "from uws import UWS"
   ]
  },
  {
   "cell_type": "markdown",
   "metadata": {},
   "source": [
    "## Setup the connection\n",
    "\n",
    "The URL for connecting with CosmoSim's uws-client is 'https://www.cosmosim.org/uws/query/'. You also need to define your username and password, either by inserting it directly below or by saving your credentials in a local cosmosim-user.json file and reading it here. The credentials are the same as on the CosmoSim webpage. If you do not have an account yet, please register at [CosmoSim registration](https://www.cosmosim.org/auth/registration/register). Alternatively, you can use the user `uwstest` with password `gavo` for testing purposes. (Be aware that anyone can use this user and delete your results at any time!)\n"
   ]
  },
  {
   "cell_type": "code",
   "execution_count": 17,
   "metadata": {
    "collapsed": false
   },
   "outputs": [],
   "source": [
    "# set credentials here:\n",
    "# username = 'uwstest'\n",
    "# password = 'gavo'\n",
    "\n",
    "# or read your own username and password from a json-file,\n",
    "# format: { \"username\": \"<yourname>\", \"password\": \"<your password>\" }\n",
    "import json\n",
    "with open('cosmosim-user.json') as credentials_file:    \n",
    "    username, password = json.load(credentials_file).values()\n",
    "\n",
    "url = 'https://www.cosmosim.org/uws/query/'\n",
    "c = UWS.client.Client(url, username, password)"
   ]
  },
  {
   "cell_type": "markdown",
   "metadata": {},
   "source": [
    "## List previous jobs\n",
    "Once the connection is set up, you can retrieve the list of previously run jobs with `c.get_job_list()`. You can also provide extra filters for the job list, e.g. filtering by phase or creation time of the job or just output the most recent ones using the `last` keyword."
   ]
  },
  {
   "cell_type": "code",
   "execution_count": 67,
   "metadata": {
    "collapsed": false
   },
   "outputs": [
    {
     "name": "stdout",
     "output_type": "stream",
     "text": [
      "Job '1489393683792045078' in phase 'PENDING' created at '2017-03-13T09:28:03+01:00' - https://www.cosmosim.org/uws/query/1489393683792045078\n",
      "Job '1489390719480540687' in phase 'ERROR' created at '2017-03-13T08:38:39+01:00' - https://www.cosmosim.org/uws/query/1489390719480540687\n",
      "Job '1489158214227556580' in phase 'COMPLETED' created at '2017-03-10T16:03:34+01:00' - https://www.cosmosim.org/uws/query/1489158214227556580\n",
      "Job '1489158153978380359' in phase 'COMPLETED' created at '2017-03-10T16:02:33+01:00' - https://www.cosmosim.org/uws/query/1489158153978380359\n",
      "Job '1489158094195514088' in phase 'COMPLETED' created at '2017-03-10T16:01:34+01:00' - https://www.cosmosim.org/uws/query/1489158094195514088\n",
      "\n"
     ]
    }
   ],
   "source": [
    "filters = {'phases': ['PENDING', 'COMPLETED', 'ERROR'], 'last': 5}\n",
    "jobs = c.get_job_list(filters)\n",
    "\n",
    "# printing the returned resulting jobs-object gives a list of jobs\n",
    "print jobs"
   ]
  },
  {
   "cell_type": "markdown",
   "metadata": {},
   "source": [
    "For each job, its unique id, ownerId, creationTime and phase are stored within this job list. \n",
    "At CosmoSim, we store the table name as the `runId` for each job. If no table name was given during job creation, the current timestamp is used."
   ]
  },
  {
   "cell_type": "code",
   "execution_count": 30,
   "metadata": {
    "collapsed": false
   },
   "outputs": [
    {
     "name": "stdout",
     "output_type": "stream",
     "text": [
      "# jobId, ownerId, creationTime, phase, runId:\n",
      "1489158214227556580 uwstest 2017-03-10T16:03:34+01:00 COMPLETED 2017-03-10-16-03-34-2251\n",
      "1489158153978380359 uwstest 2017-03-10T16:02:33+01:00 COMPLETED 2017-03-10-16-02-33-9759\n",
      "1489158094195514088 uwstest 2017-03-10T16:01:34+01:00 COMPLETED 2017-03-10-16-01-34-1929\n",
      "1489158062282761682 uwstest 2017-03-10T16:01:02+01:00 COMPLETED 2017-03-10-16-01-02-2808\n",
      "1489158030472308573 uwstest 2017-03-10T16:00:30+01:00 COMPLETED 2017-03-10-16-00-30-4699\n"
     ]
    }
   ],
   "source": [
    "print \"# jobId, ownerId, creationTime, phase, runId:\"\n",
    "for job in jobs.job_reference:\n",
    "    print job.id, job.ownerId, job.creationTime, job.phase[0], job.runId"
   ]
  },
  {
   "cell_type": "markdown",
   "metadata": {},
   "source": [
    "## Create, check and run a job\n",
    "\n",
    "For creating a new job, first define the necessary parameters. For CosmoSim this is `query`, which is the SQL string and the optional parameters `queue` (long or short) and `table` (a unique table name). We set here an SQL query that will select the 10 most massive clusters from the MDPL2 simulation, Rockstar catalog."
   ]
  },
  {
   "cell_type": "code",
   "execution_count": 71,
   "metadata": {
    "collapsed": true
   },
   "outputs": [],
   "source": [
    "parameters = {'query': \n",
    "              'SELECT rockstarId, x,y,z, Mvir FROM MDPL2.Rockstar'\\\n",
    "                + ' WHERE snapnum=125 ORDER BY Mvir DESC LIMIT 10',\n",
    "              'queue': 'short'}"
   ]
  },
  {
   "cell_type": "markdown",
   "metadata": {},
   "source": [
    "Now **create a new job** with these parameters:"
   ]
  },
  {
   "cell_type": "code",
   "execution_count": 72,
   "metadata": {
    "collapsed": false
   },
   "outputs": [],
   "source": [
    "job = c.new_job(parameters)"
   ]
  },
  {
   "cell_type": "markdown",
   "metadata": {},
   "source": [
    "And print the job's id and phase:"
   ]
  },
  {
   "cell_type": "code",
   "execution_count": 73,
   "metadata": {
    "collapsed": false
   },
   "outputs": [
    {
     "name": "stdout",
     "output_type": "stream",
     "text": [
      "1489393922402608701 PENDING\n"
     ]
    }
   ],
   "source": [
    "print job.job_id, job.phase[0]"
   ]
  },
  {
   "cell_type": "markdown",
   "metadata": {},
   "source": [
    "The job is created now, but it is not started yet - you can still adjust its parameters with c.set_parameters_job. E.g. let's change the queue to long:"
   ]
  },
  {
   "cell_type": "code",
   "execution_count": 74,
   "metadata": {
    "collapsed": false
   },
   "outputs": [],
   "source": [
    "update_params = {'queue': 'long'}\n",
    "job = c.set_parameters_job(job.job_id, update_params)"
   ]
  },
  {
   "cell_type": "markdown",
   "metadata": {},
   "source": [
    "Print the parameters to check this:"
   ]
  },
  {
   "cell_type": "code",
   "execution_count": 75,
   "metadata": {
    "collapsed": false
   },
   "outputs": [
    {
     "name": "stdout",
     "output_type": "stream",
     "text": [
      "queue long\n",
      "query SELECT rockstarId, x,y,z, Mvir FROM MDPL2.Rockstar WHERE snapnum=125 ORDER BY Mvir DESC LIMIT 10\n"
     ]
    }
   ],
   "source": [
    "for p in job.parameters:\n",
    "    print p.id, p.value"
   ]
  },
  {
   "cell_type": "markdown",
   "metadata": {},
   "source": [
    "Now **start the job**, i.e. put it into the job queue using `run_job`:"
   ]
  },
  {
   "cell_type": "code",
   "execution_count": 76,
   "metadata": {
    "collapsed": false
   },
   "outputs": [
    {
     "name": "stdout",
     "output_type": "stream",
     "text": [
      "1489393922402608701\n"
     ]
    }
   ],
   "source": [
    "run = c.run_job(job.job_id)\n",
    "print run.job_id"
   ]
  },
  {
   "cell_type": "markdown",
   "metadata": {},
   "source": [
    "The job should now also be visible in the web interface, at the Query Interface, left side, under 'Jobs'.  \n",
    "Let's check the job's phase: "
   ]
  },
  {
   "cell_type": "code",
   "execution_count": 77,
   "metadata": {
    "collapsed": false
   },
   "outputs": [
    {
     "name": "stdout",
     "output_type": "stream",
     "text": [
      "QUEUED\n"
     ]
    }
   ],
   "source": [
    "job = c.get_job(run.job_id)\n",
    "print job.phase[0]\n"
   ]
  },
  {
   "cell_type": "markdown",
   "metadata": {},
   "source": [
    "You can also use the `wait` parameter to wait at most the specified number of seconds until the phase has changed:"
   ]
  },
  {
   "cell_type": "code",
   "execution_count": 78,
   "metadata": {
    "collapsed": false
   },
   "outputs": [
    {
     "name": "stdout",
     "output_type": "stream",
     "text": [
      "COMPLETED\n"
     ]
    }
   ],
   "source": [
    "job = c.get_job(run.job_id, '10', 'QUEUED')\n",
    "print job.phase[0]"
   ]
  },
  {
   "cell_type": "markdown",
   "metadata": {},
   "source": [
    "Repeat the step above using \"EXECUTING\" as job phase until the job phase is \"COMPLETED\"."
   ]
  },
  {
   "cell_type": "code",
   "execution_count": 191,
   "metadata": {
    "collapsed": false
   },
   "outputs": [
    {
     "name": "stdout",
     "output_type": "stream",
     "text": [
      "COMPLETED\n"
     ]
    }
   ],
   "source": [
    "job = c.get_job(run.job_id, '10', 'EXECUTING')\n",
    "print job.phase[0]"
   ]
  },
  {
   "cell_type": "markdown",
   "metadata": {},
   "source": [
    "## Get the results"
   ]
  },
  {
   "cell_type": "markdown",
   "metadata": {},
   "source": [
    "Once your job is in \"COMPLETED\" phase, you can retrieve the results.\n",
    "\n",
    "Print the job result entries:"
   ]
  },
  {
   "cell_type": "code",
   "execution_count": 192,
   "metadata": {
    "collapsed": false
   },
   "outputs": [
    {
     "name": "stdout",
     "output_type": "stream",
     "text": [
      "Result id 'csv' reference: https://www.cosmosim.org/query/download/stream/table/2017-03-13-09-32-13-6377/format/csv\n",
      "Result id 'votable.xml' reference: https://www.cosmosim.org/query/download/stream/table/2017-03-13-09-32-13-6377/format/votable\n",
      "Result id 'votableB1.xml' reference: https://www.cosmosim.org/query/download/stream/table/2017-03-13-09-32-13-6377/format/votableB1\n",
      "Result id 'votableB2.xml' reference: https://www.cosmosim.org/query/download/stream/table/2017-03-13-09-32-13-6377/format/votableB2\n"
     ]
    }
   ],
   "source": [
    "for r in job.results:\n",
    "    print r"
   ]
  },
  {
   "cell_type": "markdown",
   "metadata": {},
   "source": [
    "With `r.reference` you can access the URL of each result. Let's download the results in VOTABLE format:"
   ]
  },
  {
   "cell_type": "code",
   "execution_count": 193,
   "metadata": {
    "collapsed": false
   },
   "outputs": [
    {
     "name": "stdout",
     "output_type": "stream",
     "text": [
      "File downloaded successfully.\n"
     ]
    }
   ],
   "source": [
    "fileurl = str(job.results[1].reference)\n",
    "resultfilename = \"result.xml\"\n",
    "success = c.connection.download_file(fileurl, username, password, file_name=resultfilename)\n",
    "if not success:\n",
    "    print \"File could not be downloaded, please check the job phase and result urls.\"\n",
    "else:\n",
    "    print \"File downloaded successfully.\""
   ]
  },
  {
   "cell_type": "markdown",
   "metadata": {},
   "source": [
    "Since there is only one table, we can quickly read the VOTABLE into a numpy array using astropy:"
   ]
  },
  {
   "cell_type": "code",
   "execution_count": 194,
   "metadata": {
    "collapsed": false
   },
   "outputs": [],
   "source": [
    "table = parse_single_table(resultfilename, pedantic=False)\n",
    "data = table.array"
   ]
  },
  {
   "cell_type": "markdown",
   "metadata": {},
   "source": [
    "Print the results row by row:"
   ]
  },
  {
   "cell_type": "code",
   "execution_count": 195,
   "metadata": {
    "collapsed": false
   },
   "outputs": [
    {
     "name": "stdout",
     "output_type": "stream",
     "text": [
      "[ (1, 12663401752, 669.8790283203125, 197.093994140625, 960.0079956054688, 3502699911839744.0)\n",
      " (2, 12568957065, 6.296500205993652, 61.284698486328125, 512.0330200195312, 2610899881820160.0)\n",
      " (3, 12657871796, 644.135986328125, 671.8619995117188, 241.302001953125, 2464100047126528.0)\n",
      " (4, 12690066801, 915.3740234375, 140.13499450683594, 875.5419921875, 2458800057483264.0)\n",
      " (5, 12698654951, 958.1680297851562, 73.85369873046875, 974.68701171875, 2382099994640384.0)\n",
      " (6, 12690125164, 900.3259887695312, 142.45199584960938, 944.1580200195312, 2362299926970368.0)\n",
      " (7, 12636014904, 486.2460021972656, 231.9550018310547, 903.6859741210938, 2269899879612416.0)\n",
      " (8, 12577987103, 12.169500350952148, 960.385009765625, 944.1920166015625, 2244000018857984.0)\n",
      " (9, 12656411108, 606.7890014648438, 487.3819885253906, 619.7739868164062, 2154799990571008.0)\n",
      " (10, 12578986015, 121.9729995727539, 76.42739868164062, 770.2570190429688, 2027799955111936.0)]\n"
     ]
    }
   ],
   "source": [
    "print data"
   ]
  },
  {
   "cell_type": "markdown",
   "metadata": {},
   "source": [
    "Or print only a column:"
   ]
  },
  {
   "cell_type": "code",
   "execution_count": 196,
   "metadata": {
    "collapsed": false
   },
   "outputs": [
    {
     "name": "stdout",
     "output_type": "stream",
     "text": [
      "[669.8790283203125 6.296500205993652 644.135986328125 915.3740234375\n",
      " 958.1680297851562 900.3259887695312 486.2460021972656 12.169500350952148\n",
      " 606.7890014648438 121.9729995727539]\n"
     ]
    }
   ],
   "source": [
    "print data['x']"
   ]
  },
  {
   "cell_type": "markdown",
   "metadata": {},
   "source": [
    "Get the units for x and y values:"
   ]
  },
  {
   "cell_type": "code",
   "execution_count": 197,
   "metadata": {
    "collapsed": false
   },
   "outputs": [
    {
     "name": "stdout",
     "output_type": "stream",
     "text": [
      "Units for x and y:  Mpc / h Mpc / h\n"
     ]
    }
   ],
   "source": [
    "field = table.get_field_by_id('x')\n",
    "unit_x = field.unit\n",
    "field = table.get_field_by_id('y')\n",
    "unit_y = field.unit\n",
    "\n",
    "print \"Units for x and y: \", unit_x, unit_y"
   ]
  },
  {
   "cell_type": "markdown",
   "metadata": {},
   "source": [
    "## Plot results"
   ]
  },
  {
   "cell_type": "code",
   "execution_count": 199,
   "metadata": {
    "collapsed": false
   },
   "outputs": [
    {
     "data": {
      "image/png": "[encoded data removed]",
      "text/plain": [
       "<matplotlib.figure.Figure at 0x7fa6683d5c50>"
      ]
     },
     "metadata": {},
     "output_type": "display_data"
    }
   ],
   "source": [
    "%matplotlib inline\n",
    "ax = plt.subplot(111)\n",
    "\n",
    "# set axis labels\n",
    "ax.set_xlabel('x [' + str(unit_x) + ']')\n",
    "ax.set_ylabel('y [' + str(unit_y) + ']')\n",
    "\n",
    "# set axis range\n",
    "ax.set_xlim(0, 1000)\n",
    "ax.set_ylim(0, 1000)\n",
    "\n",
    "# plot data,\n",
    "# using decreasing point size,\n",
    "# so the biggest point is the most massive object\n",
    "s = range(20,0,-2)\n",
    "ax.scatter(data['x'], data['y'], s, color='b');\n",
    "plt.show()"
   ]
  },
  {
   "cell_type": "markdown",
   "metadata": {},
   "source": [
    "## Delete job\n",
    "\n",
    "Delete the job on the server, because we don't need it anymore:"
   ]
  },
  {
   "cell_type": "code",
   "execution_count": 268,
   "metadata": {
    "collapsed": false
   },
   "outputs": [
    {
     "data": {
      "text/plain": [
       "True"
      ]
     },
     "execution_count": 268,
     "metadata": {},
     "output_type": "execute_result"
    }
   ],
   "source": [
    "deleted = c.delete_job(job.job_id)\n",
    "deleted"
   ]
  },
  {
   "cell_type": "markdown",
   "metadata": {},
   "source": [
    "## Example: Retrieve progenitors of a halo\n",
    "\n",
    "Let's do a more elaborate example: for the most massive dark matter halo from the previous query, get its progenitors that merged into this halo and plot their positions over time. We restrict the progenitors to those with mass > 1.e12/h solar masses."
   ]
  },
  {
   "cell_type": "code",
   "execution_count": 269,
   "metadata": {
    "collapsed": false
   },
   "outputs": [
    {
     "ename": "ValueError",
     "evalue": "no field of name rockstarId",
     "output_type": "error",
     "traceback": [
      "\u001b[0;31m---------------------------------------------------------------------------\u001b[0m",
      "\u001b[0;31mValueError\u001b[0m                                Traceback (most recent call last)",
      "\u001b[0;32m<ipython-input-269-9531271cca32>\u001b[0m in \u001b[0;36m<module>\u001b[0;34m()\u001b[0m\n\u001b[1;32m      1\u001b[0m \u001b[0;31m# store id of most massive dark matter halo from query before\u001b[0m\u001b[0;34m\u001b[0m\u001b[0;34m\u001b[0m\u001b[0m\n\u001b[0;32m----> 2\u001b[0;31m \u001b[0mmost_massive_rockstarId\u001b[0m \u001b[0;34m=\u001b[0m \u001b[0mdata\u001b[0m\u001b[0;34m[\u001b[0m\u001b[0;36m0\u001b[0m\u001b[0;34m]\u001b[0m\u001b[0;34m[\u001b[0m\u001b[0;34m'rockstarId'\u001b[0m\u001b[0;34m]\u001b[0m\u001b[0;34m\u001b[0m\u001b[0m\n\u001b[0m",
      "\u001b[0;32m/home/kristin/E-Science/CosmoSim/Tools/UWS/python-notebooks/cosmosim-uws-notebook/venv/local/lib/python2.7/site-packages/numpy/ma/core.pyc\u001b[0m in \u001b[0;36m__getitem__\u001b[0;34m(self, indx)\u001b[0m\n\u001b[1;32m   5953\u001b[0m         \"\"\"\n\u001b[1;32m   5954\u001b[0m         \u001b[0mm\u001b[0m \u001b[0;34m=\u001b[0m \u001b[0mself\u001b[0m\u001b[0;34m.\u001b[0m\u001b[0m_mask\u001b[0m\u001b[0;34m\u001b[0m\u001b[0m\n\u001b[0;32m-> 5955\u001b[0;31m         \u001b[0;32mif\u001b[0m \u001b[0misinstance\u001b[0m\u001b[0;34m(\u001b[0m\u001b[0mm\u001b[0m\u001b[0;34m[\u001b[0m\u001b[0mindx\u001b[0m\u001b[0;34m]\u001b[0m\u001b[0;34m,\u001b[0m \u001b[0mndarray\u001b[0m\u001b[0;34m)\u001b[0m\u001b[0;34m:\u001b[0m\u001b[0;34m\u001b[0m\u001b[0m\n\u001b[0m\u001b[1;32m   5956\u001b[0m             \u001b[0;31m# Can happen when indx is a multi-dimensional field:\u001b[0m\u001b[0;34m\u001b[0m\u001b[0;34m\u001b[0m\u001b[0m\n\u001b[1;32m   5957\u001b[0m             \u001b[0;31m# A = ma.masked_array(data=[([0,1],)], mask=[([True,\u001b[0m\u001b[0;34m\u001b[0m\u001b[0;34m\u001b[0m\u001b[0m\n",
      "\u001b[0;31mValueError\u001b[0m: no field of name rockstarId"
     ]
    }
   ],
   "source": [
    "# store id of most massive dark matter halo from query before\n",
    "most_massive_rockstarId = data[0]['rockstarId']"
   ]
  },
  {
   "cell_type": "code",
   "execution_count": 270,
   "metadata": {
    "collapsed": true
   },
   "outputs": [],
   "source": [
    "query = \"\"\"\n",
    "SELECT p.rockstarId, p.snapnum as snapnum, p.x as x, p.y as y, p.z as z, p.Mvir as Mvir, p.Rvir as Rvir\n",
    "FROM MDPL2.Rockstar AS p,\n",
    "  (SELECT depthFirstId, lastProg_depthFirstId FROM MDPL2.Rockstar\n",
    "  WHERE rockstarId = \"\"\" + str(most_massive_rockstarId) + \"\"\") AS m\n",
    "WHERE p.depthFirstId BETWEEN m.depthFirstId AND m.lastProg_depthFirstId\n",
    "AND p.Mvir > 5.e11\n",
    "ORDER BY snapnum\n",
    "\"\"\"\n"
   ]
  },
  {
   "cell_type": "markdown",
   "metadata": {},
   "source": [
    "Create and start the job:"
   ]
  },
  {
   "cell_type": "code",
   "execution_count": 271,
   "metadata": {
    "collapsed": false
   },
   "outputs": [
    {
     "name": "stdout",
     "output_type": "stream",
     "text": [
      "PENDING\n"
     ]
    }
   ],
   "source": [
    "job = c.new_job({'query': query, 'queue': 'long'})\n",
    "if job.phase[0] != \"PENDING\":\n",
    "    print \"ERROR: not in pending phase!\"\n",
    "else:\n",
    "    run = c.run_job(job.job_id)\n",
    "print job.phase[0]"
   ]
  },
  {
   "cell_type": "markdown",
   "metadata": {},
   "source": [
    "Check the status and wait until it is finished (this can take a couple of minutes!!):"
   ]
  },
  {
   "cell_type": "code",
   "execution_count": 272,
   "metadata": {
    "collapsed": false
   },
   "outputs": [
    {
     "name": "stdout",
     "output_type": "stream",
     "text": [
      "Time out or job is not in QUEUED phase anymore.\n",
      "Time out or job is not in EXECUTING phase anymore.\n",
      "Job phase:  COMPLETED\n",
      "JobId : '1489414586598016000'\n",
      "RunId : '2017-03-13-15-16-26-8047'\n",
      "OwnerId : 'uwstest'\n",
      "Phase : 'COMPLETED'\n",
      "Quote : 'None'\n",
      "CreationTime : '2017-03-13T15:16:26+01:00'\n",
      "StartTime : '2017-03-13T15:16:28+01:00'\n",
      "EndTime : '2017-03-13T15:16:28+01:00'\n",
      "ExecutionDuration : '3600'\n",
      "Destruction : '2999-12-31T00:00:00+01:00'\n",
      "Parameters :\n",
      "Parameter id 'database' byRef: False is_post: False - value: cosmosim_user_uwstest\n",
      "Parameter id 'table' byRef: False is_post: False - value: 2017-03-13-15-16-26-8047\n",
      "Parameter id 'query' byRef: False is_post: False - value: \n",
      "SELECT p.rockstarId, p.snapnum as snapnum, p.x as x, p.y as y, p.z as z, p.Mvir as Mvir, p.Rvir as Rvir\n",
      "FROM MDPL2.Rockstar AS p,\n",
      "  (SELECT depthFirstId, lastProg_depthFirstId FROM MDPL2.Rockstar\n",
      "  WHERE rockstarId = 12663401752) AS m\n",
      "WHERE p.depthFirstId BETWEEN m.depthFirstId AND m.lastProg_depthFirstId\n",
      "AND p.Mvir > 5.e11\n",
      "ORDER BY snapnum\n",
      "\n",
      "-- The query plan used to run this query: --\n",
      "--------------------------------------------\n",
      "--\n",
      "-- CALL paquExec('SELECT `depthFirstId` AS `depthFirstId`,`lastProg_depthFirstId` AS `lastProg_depthFirstId` FROM MDPL2.Rockstar WHERE ( `rockstarId` = 12663401752 )   ', 'aggregation_tmp_70012078');\n",
      "-- CALL paquExec('SELECT `p`.`rockstarId` AS `p.rockstarId`,`p`.`snapnum` AS `snapnum`,`p`.`x` AS `x`,`p`.`y` AS `y`,`p`.`z` AS `z`,`p`.`Mvir` AS `Mvir`,`p`.`Rvir` AS `Rvir` FROM MDPL2.Rockstar AS `p` JOIN ( SELECT `depthFirstId`,`lastProg_depthFirstId` FROM `aggregation_tmp_70012078`   ) AS `m`  WHERE ( `p`.`Mvir` > 5.e11 ) AND ( `p`.`depthFirstId` BETWEEN `m`.`depthFirstId` AND `m`.`lastProg_depthFirstId` )   ', 'aggregation_tmp_34138726');\n",
      "-- CALL paquDropTmp('aggregation_tmp_70012078');\n",
      "-- USE spider_tmp_shard; SET @i=0; CREATE TABLE cosmosim_user_uwstest.`2017-03-13-15-16-26-8047` ENGINE=MyISAM SELECT @i:=@i+1 AS `row_id`,  `p.rockstarId`,`snapnum`,`x`,`y`,`z`,`Mvir`,`Rvir`\n",
      "FROM `aggregation_tmp_34138726`  ORDER BY `snapnum` ASC ;\n",
      "-- CALL paquDropTmp('aggregation_tmp_34138726');\n",
      "\n",
      "Parameter id 'queue' byRef: False is_post: False - value: long\n",
      "Results :\n",
      "Result id 'csv' reference: https://www.cosmosim.org/query/download/stream/table/2017-03-13-15-16-26-8047/format/csv\n",
      "Result id 'votable.xml' reference: https://www.cosmosim.org/query/download/stream/table/2017-03-13-15-16-26-8047/format/votable\n",
      "Result id 'votableB1.xml' reference: https://www.cosmosim.org/query/download/stream/table/2017-03-13-15-16-26-8047/format/votableB1\n",
      "Result id 'votableB2.xml' reference: https://www.cosmosim.org/query/download/stream/table/2017-03-13-15-16-26-8047/format/votableB2\n",
      "errorSummary :\n",
      " False\n",
      "jobInfo :\n",
      "\n"
     ]
    }
   ],
   "source": [
    "job = c.get_job(run.job_id, '60', 'QUEUED')\n",
    "print \"Time out or job is not in QUEUED phase anymore.\"\n",
    "job = c.get_job(run.job_id, '60', 'EXECUTING')\n",
    "print \"Time out or job is not in EXECUTING phase anymore.\"\n",
    "print \"Job phase: \", job.phase[0]\n",
    "print job"
   ]
  },
  {
   "cell_type": "markdown",
   "metadata": {},
   "source": [
    "Retrieve the results:"
   ]
  },
  {
   "cell_type": "code",
   "execution_count": 273,
   "metadata": {
    "collapsed": false
   },
   "outputs": [
    {
     "name": "stdout",
     "output_type": "stream",
     "text": [
      "File downloaded successfully.\n"
     ]
    }
   ],
   "source": [
    "fileurl = str(job.results[1].reference)\n",
    "resultfilename = \"result.xml\"\n",
    "success = c.connection.download_file(fileurl, username, password, file_name=resultfilename)\n",
    "if not success:\n",
    "    print \"File could not be downloaded, please check the job phase and result urls.\"\n",
    "else:\n",
    "    print \"File downloaded successfully.\""
   ]
  },
  {
   "cell_type": "markdown",
   "metadata": {},
   "source": [
    "Plot the positions of the progenitor halos, colored by snapshot number (increasing time):"
   ]
  },
  {
   "cell_type": "code",
   "execution_count": 274,
   "metadata": {
    "collapsed": false
   },
   "outputs": [
    {
     "name": "stderr",
     "output_type": "stream",
     "text": [
      "WARNING: W03: result.xml:10:1: W03: Implicitly generating an ID from a name '2017-03-13-15-16-26-8047' -> '_2017-03-13-15-16-26-8047' [astropy.io.votable.exceptions]\n"
     ]
    }
   ],
   "source": [
    "table = parse_single_table(resultfilename, pedantic=False)\n",
    "data = table.array\n",
    "\n",
    "field = table.get_field_by_id('x')\n",
    "unit_x = field.unit\n",
    "field = table.get_field_by_id('y')\n",
    "unit_y = field.unit\n",
    "field = table.get_field_by_id('z')\n",
    "unit_z = field.unit\n"
   ]
  },
  {
   "cell_type": "code",
   "execution_count": 275,
   "metadata": {
    "collapsed": false
   },
   "outputs": [
    {
     "data": {
      "image/png": "[encoded data removed]",
      "text/plain": [
       "<matplotlib.figure.Figure at 0x7fa653efc310>"
      ]
     },
     "metadata": {},
     "output_type": "display_data"
    }
   ],
   "source": [
    "%matplotlib inline\n",
    "ax = plt.subplot(111)\n",
    "\n",
    "# set axis labels\n",
    "ax.set_xlabel('x [' + str(unit_x) + ']')\n",
    "ax.set_ylabel('y [' + str(unit_y) + ']')\n",
    "\n",
    "# plot data,\n",
    "# color by snapnum, i.e. snapshot number, i.e. increasing time\n",
    "cm = plt.cm.get_cmap('viridis')\n",
    "sc = ax.scatter(data['x'], data['y'], s=0.7, c=data['snapnum'], alpha=0.5, cmap=cm)\n",
    "plt.colorbar(sc)\n",
    "plt.show()"
   ]
  },
  {
   "cell_type": "markdown",
   "metadata": {},
   "source": [
    "Now use an interactive 3D plot instead:"
   ]
  },
  {
   "cell_type": "code",
   "execution_count": 264,
   "metadata": {
    "collapsed": false
   },
   "outputs": [
    {
     "data": {
      "application/javascript": [
       "/* Put everything inside the global mpl namespace */\n",
       "window.mpl = {};\n",
       "\n",
       "\n",
       "mpl.get_websocket_type = function() {\n",
       "    if (typeof(WebSocket) !== 'undefined') {\n",
       "        return WebSocket;\n",
       "    } else if (typeof(MozWebSocket) !== 'undefined') {\n",
       "        return MozWebSocket;\n",
       "    } else {\n",
       "        alert('Your browser does not have WebSocket support.' +\n",
       "              'Please try Chrome, Safari or Firefox ≥ 6. ' +\n",
       "              'Firefox 4 and 5 are also supported but you ' +\n",
       "              'have to enable WebSockets in about:config.');\n",
       "    };\n",
       "}\n",
       "\n",
       "mpl.figure = function(figure_id, websocket, ondownload, parent_element) {\n",
       "    this.id = figure_id;\n",
       "\n",
       "    this.ws = websocket;\n",
       "\n",
       "    this.supports_binary = (this.ws.binaryType != undefined);\n",
       "\n",
       "    if (!this.supports_binary) {\n",
       "        var warnings = document.getElementById(\"mpl-warnings\");\n",
       "        if (warnings) {\n",
       "            warnings.style.display = 'block';\n",
       "            warnings.textContent = (\n",
       "                \"This browser does not support binary websocket messages. \" +\n",
       "                    \"Performance may be slow.\");\n",
       "        }\n",
       "    }\n",
       "\n",
       "    this.imageObj = new Image();\n",
       "\n",
       "    this.context = undefined;\n",
       "    this.message = undefined;\n",
       "    this.canvas = undefined;\n",
       "    this.rubberband_canvas = undefined;\n",
       "    this.rubberband_context = undefined;\n",
       "    this.format_dropdown = undefined;\n",
       "\n",
       "    this.image_mode = 'full';\n",
       "\n",
       "    this.root = $('<div/>');\n",
       "    this._root_extra_style(this.root)\n",
       "    this.root.attr('style', 'display: inline-block');\n",
       "\n",
       "    $(parent_element).append(this.root);\n",
       "\n",
       "    this._init_header(this);\n",
       "    this._init_canvas(this);\n",
       "    this._init_toolbar(this);\n",
       "\n",
       "    var fig = this;\n",
       "\n",
       "    this.waiting = false;\n",
       "\n",
       "    this.ws.onopen =  function () {\n",
       "            fig.send_message(\"supports_binary\", {value: fig.supports_binary});\n",
       "            fig.send_message(\"send_image_mode\", {});\n",
       "            if (mpl.ratio != 1) {\n",
       "                fig.send_message(\"set_dpi_ratio\", {'dpi_ratio': mpl.ratio});\n",
       "            }\n",
       "            fig.send_message(\"refresh\", {});\n",
       "        }\n",
       "\n",
       "    this.imageObj.onload = function() {\n",
       "            if (fig.image_mode == 'full') {\n",
       "                // Full images could contain transparency (where diff images\n",
       "                // almost always do), so we need to clear the canvas so that\n",
       "                // there is no ghosting.\n",
       "                fig.context.clearRect(0, 0, fig.canvas.width, fig.canvas.height);\n",
       "            }\n",
       "            fig.context.drawImage(fig.imageObj, 0, 0);\n",
       "        };\n",
       "\n",
       "    this.imageObj.onunload = function() {\n",
       "        this.ws.close();\n",
       "    }\n",
       "\n",
       "    this.ws.onmessage = this._make_on_message_function(this);\n",
       "\n",
       "    this.ondownload = ondownload;\n",
       "}\n",
       "\n",
       "mpl.figure.prototype._init_header = function() {\n",
       "    var titlebar = $(\n",
       "        '<div class=\"ui-dialog-titlebar ui-widget-header ui-corner-all ' +\n",
       "        'ui-helper-clearfix\"/>');\n",
       "    var titletext = $(\n",
       "        '<div class=\"ui-dialog-title\" style=\"width: 100%; ' +\n",
       "        'text-align: center; padding: 3px;\"/>');\n",
       "    titlebar.append(titletext)\n",
       "    this.root.append(titlebar);\n",
       "    this.header = titletext[0];\n",
       "}\n",
       "\n",
       "\n",
       "\n",
       "mpl.figure.prototype._canvas_extra_style = function(canvas_div) {\n",
       "\n",
       "}\n",
       "\n",
       "\n",
       "mpl.figure.prototype._root_extra_style = function(canvas_div) {\n",
       "\n",
       "}\n",
       "\n",
       "mpl.figure.prototype._init_canvas = function() {\n",
       "    var fig = this;\n",
       "\n",
       "    var canvas_div = $('<div/>');\n",
       "\n",
       "    canvas_div.attr('style', 'position: relative; clear: both; outline: 0');\n",
       "\n",
       "    function canvas_keyboard_event(event) {\n",
       "        return fig.key_event(event, event['data']);\n",
       "    }\n",
       "\n",
       "    canvas_div.keydown('key_press', canvas_keyboard_event);\n",
       "    canvas_div.keyup('key_release', canvas_keyboard_event);\n",
       "    this.canvas_div = canvas_div\n",
       "    this._canvas_extra_style(canvas_div)\n",
       "    this.root.append(canvas_div);\n",
       "\n",
       "    var canvas = $('<canvas/>');\n",
       "    canvas.addClass('mpl-canvas');\n",
       "    canvas.attr('style', \"left: 0; top: 0; z-index: 0; outline: 0\")\n",
       "\n",
       "    this.canvas = canvas[0];\n",
       "    this.context = canvas[0].getContext(\"2d\");\n",
       "\n",
       "    var backingStore = this.context.backingStorePixelRatio ||\n",
       "\tthis.context.webkitBackingStorePixelRatio ||\n",
       "\tthis.context.mozBackingStorePixelRatio ||\n",
       "\tthis.context.msBackingStorePixelRatio ||\n",
       "\tthis.context.oBackingStorePixelRatio ||\n",
       "\tthis.context.backingStorePixelRatio || 1;\n",
       "\n",
       "    mpl.ratio = (window.devicePixelRatio || 1) / backingStore;\n",
       "\n",
       "    var rubberband = $('<canvas/>');\n",
       "    rubberband.attr('style', \"position: absolute; left: 0; top: 0; z-index: 1;\")\n",
       "\n",
       "    var pass_mouse_events = true;\n",
       "\n",
       "    canvas_div.resizable({\n",
       "        start: function(event, ui) {\n",
       "            pass_mouse_events = false;\n",
       "        },\n",
       "        resize: function(event, ui) {\n",
       "            fig.request_resize(ui.size.width, ui.size.height);\n",
       "        },\n",
       "        stop: function(event, ui) {\n",
       "            pass_mouse_events = true;\n",
       "            fig.request_resize(ui.size.width, ui.size.height);\n",
       "        },\n",
       "    });\n",
       "\n",
       "    function mouse_event_fn(event) {\n",
       "        if (pass_mouse_events)\n",
       "            return fig.mouse_event(event, event['data']);\n",
       "    }\n",
       "\n",
       "    rubberband.mousedown('button_press', mouse_event_fn);\n",
       "    rubberband.mouseup('button_release', mouse_event_fn);\n",
       "    // Throttle sequential mouse events to 1 every 20ms.\n",
       "    rubberband.mousemove('motion_notify', mouse_event_fn);\n",
       "\n",
       "    rubberband.mouseenter('figure_enter', mouse_event_fn);\n",
       "    rubberband.mouseleave('figure_leave', mouse_event_fn);\n",
       "\n",
       "    canvas_div.on(\"wheel\", function (event) {\n",
       "        event = event.originalEvent;\n",
       "        event['data'] = 'scroll'\n",
       "        if (event.deltaY < 0) {\n",
       "            event.step = 1;\n",
       "        } else {\n",
       "            event.step = -1;\n",
       "        }\n",
       "        mouse_event_fn(event);\n",
       "    });\n",
       "\n",
       "    canvas_div.append(canvas);\n",
       "    canvas_div.append(rubberband);\n",
       "\n",
       "    this.rubberband = rubberband;\n",
       "    this.rubberband_canvas = rubberband[0];\n",
       "    this.rubberband_context = rubberband[0].getContext(\"2d\");\n",
       "    this.rubberband_context.strokeStyle = \"#000000\";\n",
       "\n",
       "    this._resize_canvas = function(width, height) {\n",
       "        // Keep the size of the canvas, canvas container, and rubber band\n",
       "        // canvas in synch.\n",
       "        canvas_div.css('width', width)\n",
       "        canvas_div.css('height', height)\n",
       "\n",
       "        canvas.attr('width', width * mpl.ratio);\n",
       "        canvas.attr('height', height * mpl.ratio);\n",
       "        canvas.attr('style', 'width: ' + width + 'px; height: ' + height + 'px;');\n",
       "\n",
       "        rubberband.attr('width', width);\n",
       "        rubberband.attr('height', height);\n",
       "    }\n",
       "\n",
       "    // Set the figure to an initial 600x600px, this will subsequently be updated\n",
       "    // upon first draw.\n",
       "    this._resize_canvas(600, 600);\n",
       "\n",
       "    // Disable right mouse context menu.\n",
       "    $(this.rubberband_canvas).bind(\"contextmenu\",function(e){\n",
       "        return false;\n",
       "    });\n",
       "\n",
       "    function set_focus () {\n",
       "        canvas.focus();\n",
       "        canvas_div.focus();\n",
       "    }\n",
       "\n",
       "    window.setTimeout(set_focus, 100);\n",
       "}\n",
       "\n",
       "mpl.figure.prototype._init_toolbar = function() {\n",
       "    var fig = this;\n",
       "\n",
       "    var nav_element = $('<div/>')\n",
       "    nav_element.attr('style', 'width: 100%');\n",
       "    this.root.append(nav_element);\n",
       "\n",
       "    // Define a callback function for later on.\n",
       "    function toolbar_event(event) {\n",
       "        return fig.toolbar_button_onclick(event['data']);\n",
       "    }\n",
       "    function toolbar_mouse_event(event) {\n",
       "        return fig.toolbar_button_onmouseover(event['data']);\n",
       "    }\n",
       "\n",
       "    for(var toolbar_ind in mpl.toolbar_items) {\n",
       "        var name = mpl.toolbar_items[toolbar_ind][0];\n",
       "        var tooltip = mpl.toolbar_items[toolbar_ind][1];\n",
       "        var image = mpl.toolbar_items[toolbar_ind][2];\n",
       "        var method_name = mpl.toolbar_items[toolbar_ind][3];\n",
       "\n",
       "        if (!name) {\n",
       "            // put a spacer in here.\n",
       "            continue;\n",
       "        }\n",
       "        var button = $('<button/>');\n",
       "        button.addClass('ui-button ui-widget ui-state-default ui-corner-all ' +\n",
       "                        'ui-button-icon-only');\n",
       "        button.attr('role', 'button');\n",
       "        button.attr('aria-disabled', 'false');\n",
       "        button.click(method_name, toolbar_event);\n",
       "        button.mouseover(tooltip, toolbar_mouse_event);\n",
       "\n",
       "        var icon_img = $('<span/>');\n",
       "        icon_img.addClass('ui-button-icon-primary ui-icon');\n",
       "        icon_img.addClass(image);\n",
       "        icon_img.addClass('ui-corner-all');\n",
       "\n",
       "        var tooltip_span = $('<span/>');\n",
       "        tooltip_span.addClass('ui-button-text');\n",
       "        tooltip_span.html(tooltip);\n",
       "\n",
       "        button.append(icon_img);\n",
       "        button.append(tooltip_span);\n",
       "\n",
       "        nav_element.append(button);\n",
       "    }\n",
       "\n",
       "    var fmt_picker_span = $('<span/>');\n",
       "\n",
       "    var fmt_picker = $('<select/>');\n",
       "    fmt_picker.addClass('mpl-toolbar-option ui-widget ui-widget-content');\n",
       "    fmt_picker_span.append(fmt_picker);\n",
       "    nav_element.append(fmt_picker_span);\n",
       "    this.format_dropdown = fmt_picker[0];\n",
       "\n",
       "    for (var ind in mpl.extensions) {\n",
       "        var fmt = mpl.extensions[ind];\n",
       "        var option = $(\n",
       "            '<option/>', {selected: fmt === mpl.default_extension}).html(fmt);\n",
       "        fmt_picker.append(option)\n",
       "    }\n",
       "\n",
       "    // Add hover states to the ui-buttons\n",
       "    $( \".ui-button\" ).hover(\n",
       "        function() { $(this).addClass(\"ui-state-hover\");},\n",
       "        function() { $(this).removeClass(\"ui-state-hover\");}\n",
       "    );\n",
       "\n",
       "    var status_bar = $('<span class=\"mpl-message\"/>');\n",
       "    nav_element.append(status_bar);\n",
       "    this.message = status_bar[0];\n",
       "}\n",
       "\n",
       "mpl.figure.prototype.request_resize = function(x_pixels, y_pixels) {\n",
       "    // Request matplotlib to resize the figure. Matplotlib will then trigger a resize in the client,\n",
       "    // which will in turn request a refresh of the image.\n",
       "    this.send_message('resize', {'width': x_pixels, 'height': y_pixels});\n",
       "}\n",
       "\n",
       "mpl.figure.prototype.send_message = function(type, properties) {\n",
       "    properties['type'] = type;\n",
       "    properties['figure_id'] = this.id;\n",
       "    this.ws.send(JSON.stringify(properties));\n",
       "}\n",
       "\n",
       "mpl.figure.prototype.send_draw_message = function() {\n",
       "    if (!this.waiting) {\n",
       "        this.waiting = true;\n",
       "        this.ws.send(JSON.stringify({type: \"draw\", figure_id: this.id}));\n",
       "    }\n",
       "}\n",
       "\n",
       "\n",
       "mpl.figure.prototype.handle_save = function(fig, msg) {\n",
       "    var format_dropdown = fig.format_dropdown;\n",
       "    var format = format_dropdown.options[format_dropdown.selectedIndex].value;\n",
       "    fig.ondownload(fig, format);\n",
       "}\n",
       "\n",
       "\n",
       "mpl.figure.prototype.handle_resize = function(fig, msg) {\n",
       "    var size = msg['size'];\n",
       "    if (size[0] != fig.canvas.width || size[1] != fig.canvas.height) {\n",
       "        fig._resize_canvas(size[0], size[1]);\n",
       "        fig.send_message(\"refresh\", {});\n",
       "    };\n",
       "}\n",
       "\n",
       "mpl.figure.prototype.handle_rubberband = function(fig, msg) {\n",
       "    var x0 = msg['x0'] / mpl.ratio;\n",
       "    var y0 = (fig.canvas.height - msg['y0']) / mpl.ratio;\n",
       "    var x1 = msg['x1'] / mpl.ratio;\n",
       "    var y1 = (fig.canvas.height - msg['y1']) / mpl.ratio;\n",
       "    x0 = Math.floor(x0) + 0.5;\n",
       "    y0 = Math.floor(y0) + 0.5;\n",
       "    x1 = Math.floor(x1) + 0.5;\n",
       "    y1 = Math.floor(y1) + 0.5;\n",
       "    var min_x = Math.min(x0, x1);\n",
       "    var min_y = Math.min(y0, y1);\n",
       "    var width = Math.abs(x1 - x0);\n",
       "    var height = Math.abs(y1 - y0);\n",
       "\n",
       "    fig.rubberband_context.clearRect(\n",
       "        0, 0, fig.canvas.width, fig.canvas.height);\n",
       "\n",
       "    fig.rubberband_context.strokeRect(min_x, min_y, width, height);\n",
       "}\n",
       "\n",
       "mpl.figure.prototype.handle_figure_label = function(fig, msg) {\n",
       "    // Updates the figure title.\n",
       "    fig.header.textContent = msg['label'];\n",
       "}\n",
       "\n",
       "mpl.figure.prototype.handle_cursor = function(fig, msg) {\n",
       "    var cursor = msg['cursor'];\n",
       "    switch(cursor)\n",
       "    {\n",
       "    case 0:\n",
       "        cursor = 'pointer';\n",
       "        break;\n",
       "    case 1:\n",
       "        cursor = 'default';\n",
       "        break;\n",
       "    case 2:\n",
       "        cursor = 'crosshair';\n",
       "        break;\n",
       "    case 3:\n",
       "        cursor = 'move';\n",
       "        break;\n",
       "    }\n",
       "    fig.rubberband_canvas.style.cursor = cursor;\n",
       "}\n",
       "\n",
       "mpl.figure.prototype.handle_message = function(fig, msg) {\n",
       "    fig.message.textContent = msg['message'];\n",
       "}\n",
       "\n",
       "mpl.figure.prototype.handle_draw = function(fig, msg) {\n",
       "    // Request the server to send over a new figure.\n",
       "    fig.send_draw_message();\n",
       "}\n",
       "\n",
       "mpl.figure.prototype.handle_image_mode = function(fig, msg) {\n",
       "    fig.image_mode = msg['mode'];\n",
       "}\n",
       "\n",
       "mpl.figure.prototype.updated_canvas_event = function() {\n",
       "    // Called whenever the canvas gets updated.\n",
       "    this.send_message(\"ack\", {});\n",
       "}\n",
       "\n",
       "// A function to construct a web socket function for onmessage handling.\n",
       "// Called in the figure constructor.\n",
       "mpl.figure.prototype._make_on_message_function = function(fig) {\n",
       "    return function socket_on_message(evt) {\n",
       "        if (evt.data instanceof Blob) {\n",
       "            /* FIXME: We get \"Resource interpreted as Image but\n",
       "             * transferred with MIME type text/plain:\" errors on\n",
       "             * Chrome.  But how to set the MIME type?  It doesn't seem\n",
       "             * to be part of the websocket stream */\n",
       "            evt.data.type = \"image/png\";\n",
       "\n",
       "            /* Free the memory for the previous frames */\n",
       "            if (fig.imageObj.src) {\n",
       "                (window.URL || window.webkitURL).revokeObjectURL(\n",
       "                    fig.imageObj.src);\n",
       "            }\n",
       "\n",
       "            fig.imageObj.src = (window.URL || window.webkitURL).createObjectURL(\n",
       "                evt.data);\n",
       "            fig.updated_canvas_event();\n",
       "            fig.waiting = false;\n",
       "            return;\n",
       "        }\n",
       "        else if (typeof evt.data === 'string' && evt.data.slice(0, 21) == \"data:image/png;base64\") {\n",
       "            fig.imageObj.src = evt.data;\n",
       "            fig.updated_canvas_event();\n",
       "            fig.waiting = false;\n",
       "            return;\n",
       "        }\n",
       "\n",
       "        var msg = JSON.parse(evt.data);\n",
       "        var msg_type = msg['type'];\n",
       "\n",
       "        // Call the  \"handle_{type}\" callback, which takes\n",
       "        // the figure and JSON message as its only arguments.\n",
       "        try {\n",
       "            var callback = fig[\"handle_\" + msg_type];\n",
       "        } catch (e) {\n",
       "            console.log(\"No handler for the '\" + msg_type + \"' message type: \", msg);\n",
       "            return;\n",
       "        }\n",
       "\n",
       "        if (callback) {\n",
       "            try {\n",
       "                // console.log(\"Handling '\" + msg_type + \"' message: \", msg);\n",
       "                callback(fig, msg);\n",
       "            } catch (e) {\n",
       "                console.log(\"Exception inside the 'handler_\" + msg_type + \"' callback:\", e, e.stack, msg);\n",
       "            }\n",
       "        }\n",
       "    };\n",
       "}\n",
       "\n",
       "// from http://stackoverflow.com/questions/1114465/getting-mouse-location-in-canvas\n",
       "mpl.findpos = function(e) {\n",
       "    //this section is from http://www.quirksmode.org/js/events_properties.html\n",
       "    var targ;\n",
       "    if (!e)\n",
       "        e = window.event;\n",
       "    if (e.target)\n",
       "        targ = e.target;\n",
       "    else if (e.srcElement)\n",
       "        targ = e.srcElement;\n",
       "    if (targ.nodeType == 3) // defeat Safari bug\n",
       "        targ = targ.parentNode;\n",
       "\n",
       "    // jQuery normalizes the pageX and pageY\n",
       "    // pageX,Y are the mouse positions relative to the document\n",
       "    // offset() returns the position of the element relative to the document\n",
       "    var x = e.pageX - $(targ).offset().left;\n",
       "    var y = e.pageY - $(targ).offset().top;\n",
       "\n",
       "    return {\"x\": x, \"y\": y};\n",
       "};\n",
       "\n",
       "/*\n",
       " * return a copy of an object with only non-object keys\n",
       " * we need this to avoid circular references\n",
       " * http://stackoverflow.com/a/24161582/3208463\n",
       " */\n",
       "function simpleKeys (original) {\n",
       "  return Object.keys(original).reduce(function (obj, key) {\n",
       "    if (typeof original[key] !== 'object')\n",
       "        obj[key] = original[key]\n",
       "    return obj;\n",
       "  }, {});\n",
       "}\n",
       "\n",
       "mpl.figure.prototype.mouse_event = function(event, name) {\n",
       "    var canvas_pos = mpl.findpos(event)\n",
       "\n",
       "    if (name === 'button_press')\n",
       "    {\n",
       "        this.canvas.focus();\n",
       "        this.canvas_div.focus();\n",
       "    }\n",
       "\n",
       "    var x = canvas_pos.x * mpl.ratio;\n",
       "    var y = canvas_pos.y * mpl.ratio;\n",
       "\n",
       "    this.send_message(name, {x: x, y: y, button: event.button,\n",
       "                             step: event.step,\n",
       "                             guiEvent: simpleKeys(event)});\n",
       "\n",
       "    /* This prevents the web browser from automatically changing to\n",
       "     * the text insertion cursor when the button is pressed.  We want\n",
       "     * to control all of the cursor setting manually through the\n",
       "     * 'cursor' event from matplotlib */\n",
       "    event.preventDefault();\n",
       "    return false;\n",
       "}\n",
       "\n",
       "mpl.figure.prototype._key_event_extra = function(event, name) {\n",
       "    // Handle any extra behaviour associated with a key event\n",
       "}\n",
       "\n",
       "mpl.figure.prototype.key_event = function(event, name) {\n",
       "\n",
       "    // Prevent repeat events\n",
       "    if (name == 'key_press')\n",
       "    {\n",
       "        if (event.which === this._key)\n",
       "            return;\n",
       "        else\n",
       "            this._key = event.which;\n",
       "    }\n",
       "    if (name == 'key_release')\n",
       "        this._key = null;\n",
       "\n",
       "    var value = '';\n",
       "    if (event.ctrlKey && event.which != 17)\n",
       "        value += \"ctrl+\";\n",
       "    if (event.altKey && event.which != 18)\n",
       "        value += \"alt+\";\n",
       "    if (event.shiftKey && event.which != 16)\n",
       "        value += \"shift+\";\n",
       "\n",
       "    value += 'k';\n",
       "    value += event.which.toString();\n",
       "\n",
       "    this._key_event_extra(event, name);\n",
       "\n",
       "    this.send_message(name, {key: value,\n",
       "                             guiEvent: simpleKeys(event)});\n",
       "    return false;\n",
       "}\n",
       "\n",
       "mpl.figure.prototype.toolbar_button_onclick = function(name) {\n",
       "    if (name == 'download') {\n",
       "        this.handle_save(this, null);\n",
       "    } else {\n",
       "        this.send_message(\"toolbar_button\", {name: name});\n",
       "    }\n",
       "};\n",
       "\n",
       "mpl.figure.prototype.toolbar_button_onmouseover = function(tooltip) {\n",
       "    this.message.textContent = tooltip;\n",
       "};\n",
       "mpl.toolbar_items = [[\"Home\", \"Reset original view\", \"fa fa-home icon-home\", \"home\"], [\"Back\", \"Back to  previous view\", \"fa fa-arrow-left icon-arrow-left\", \"back\"], [\"Forward\", \"Forward to next view\", \"fa fa-arrow-right icon-arrow-right\", \"forward\"], [\"\", \"\", \"\", \"\"], [\"Pan\", \"Pan axes with left mouse, zoom with right\", \"fa fa-arrows icon-move\", \"pan\"], [\"Zoom\", \"Zoom to rectangle\", \"fa fa-square-o icon-check-empty\", \"zoom\"], [\"\", \"\", \"\", \"\"], [\"Download\", \"Download plot\", \"fa fa-floppy-o icon-save\", \"download\"]];\n",
       "\n",
       "mpl.extensions = [\"eps\", \"pdf\", \"png\", \"ps\", \"raw\", \"svg\"];\n",
       "\n",
       "mpl.default_extension = \"png\";var comm_websocket_adapter = function(comm) {\n",
       "    // Create a \"websocket\"-like object which calls the given IPython comm\n",
       "    // object with the appropriate methods. Currently this is a non binary\n",
       "    // socket, so there is still some room for performance tuning.\n",
       "    var ws = {};\n",
       "\n",
       "    ws.close = function() {\n",
       "        comm.close()\n",
       "    };\n",
       "    ws.send = function(m) {\n",
       "        //console.log('sending', m);\n",
       "        comm.send(m);\n",
       "    };\n",
       "    // Register the callback with on_msg.\n",
       "    comm.on_msg(function(msg) {\n",
       "        //console.log('receiving', msg['content']['data'], msg);\n",
       "        // Pass the mpl event to the overriden (by mpl) onmessage function.\n",
       "        ws.onmessage(msg['content']['data'])\n",
       "    });\n",
       "    return ws;\n",
       "}\n",
       "\n",
       "mpl.mpl_figure_comm = function(comm, msg) {\n",
       "    // This is the function which gets called when the mpl process\n",
       "    // starts-up an IPython Comm through the \"matplotlib\" channel.\n",
       "\n",
       "    var id = msg.content.data.id;\n",
       "    // Get hold of the div created by the display call when the Comm\n",
       "    // socket was opened in Python.\n",
       "    var element = $(\"#\" + id);\n",
       "    var ws_proxy = comm_websocket_adapter(comm)\n",
       "\n",
       "    function ondownload(figure, format) {\n",
       "        window.open(figure.imageObj.src);\n",
       "    }\n",
       "\n",
       "    var fig = new mpl.figure(id, ws_proxy,\n",
       "                           ondownload,\n",
       "                           element.get(0));\n",
       "\n",
       "    // Call onopen now - mpl needs it, as it is assuming we've passed it a real\n",
       "    // web socket which is closed, not our websocket->open comm proxy.\n",
       "    ws_proxy.onopen();\n",
       "\n",
       "    fig.parent_element = element.get(0);\n",
       "    fig.cell_info = mpl.find_output_cell(\"<div id='\" + id + \"'></div>\");\n",
       "    if (!fig.cell_info) {\n",
       "        console.error(\"Failed to find cell for figure\", id, fig);\n",
       "        return;\n",
       "    }\n",
       "\n",
       "    var output_index = fig.cell_info[2]\n",
       "    var cell = fig.cell_info[0];\n",
       "\n",
       "};\n",
       "\n",
       "mpl.figure.prototype.handle_close = function(fig, msg) {\n",
       "    var width = fig.canvas.width/mpl.ratio\n",
       "    fig.root.unbind('remove')\n",
       "\n",
       "    // Update the output cell to use the data from the current canvas.\n",
       "    fig.push_to_output();\n",
       "    var dataURL = fig.canvas.toDataURL();\n",
       "    // Re-enable the keyboard manager in IPython - without this line, in FF,\n",
       "    // the notebook keyboard shortcuts fail.\n",
       "    IPython.keyboard_manager.enable()\n",
       "    $(fig.parent_element).html('<img src=\"' + dataURL + '\" width=\"' + width + '\">');\n",
       "    fig.close_ws(fig, msg);\n",
       "}\n",
       "\n",
       "mpl.figure.prototype.close_ws = function(fig, msg){\n",
       "    fig.send_message('closing', msg);\n",
       "    // fig.ws.close()\n",
       "}\n",
       "\n",
       "mpl.figure.prototype.push_to_output = function(remove_interactive) {\n",
       "    // Turn the data on the canvas into data in the output cell.\n",
       "    var width = this.canvas.width/mpl.ratio\n",
       "    var dataURL = this.canvas.toDataURL();\n",
       "    this.cell_info[1]['text/html'] = '<img src=\"' + dataURL + '\" width=\"' + width + '\">';\n",
       "}\n",
       "\n",
       "mpl.figure.prototype.updated_canvas_event = function() {\n",
       "    // Tell IPython that the notebook contents must change.\n",
       "    IPython.notebook.set_dirty(true);\n",
       "    this.send_message(\"ack\", {});\n",
       "    var fig = this;\n",
       "    // Wait a second, then push the new image to the DOM so\n",
       "    // that it is saved nicely (might be nice to debounce this).\n",
       "    setTimeout(function () { fig.push_to_output() }, 1000);\n",
       "}\n",
       "\n",
       "mpl.figure.prototype._init_toolbar = function() {\n",
       "    var fig = this;\n",
       "\n",
       "    var nav_element = $('<div/>')\n",
       "    nav_element.attr('style', 'width: 100%');\n",
       "    this.root.append(nav_element);\n",
       "\n",
       "    // Define a callback function for later on.\n",
       "    function toolbar_event(event) {\n",
       "        return fig.toolbar_button_onclick(event['data']);\n",
       "    }\n",
       "    function toolbar_mouse_event(event) {\n",
       "        return fig.toolbar_button_onmouseover(event['data']);\n",
       "    }\n",
       "\n",
       "    for(var toolbar_ind in mpl.toolbar_items){\n",
       "        var name = mpl.toolbar_items[toolbar_ind][0];\n",
       "        var tooltip = mpl.toolbar_items[toolbar_ind][1];\n",
       "        var image = mpl.toolbar_items[toolbar_ind][2];\n",
       "        var method_name = mpl.toolbar_items[toolbar_ind][3];\n",
       "\n",
       "        if (!name) { continue; };\n",
       "\n",
       "        var button = $('<button class=\"btn btn-default\" href=\"#\" title=\"' + name + '\"><i class=\"fa ' + image + ' fa-lg\"></i></button>');\n",
       "        button.click(method_name, toolbar_event);\n",
       "        button.mouseover(tooltip, toolbar_mouse_event);\n",
       "        nav_element.append(button);\n",
       "    }\n",
       "\n",
       "    // Add the status bar.\n",
       "    var status_bar = $('<span class=\"mpl-message\" style=\"text-align:right; float: right;\"/>');\n",
       "    nav_element.append(status_bar);\n",
       "    this.message = status_bar[0];\n",
       "\n",
       "    // Add the close button to the window.\n",
       "    var buttongrp = $('<div class=\"btn-group inline pull-right\"></div>');\n",
       "    var button = $('<button class=\"btn btn-mini btn-primary\" href=\"#\" title=\"Stop Interaction\"><i class=\"fa fa-power-off icon-remove icon-large\"></i></button>');\n",
       "    button.click(function (evt) { fig.handle_close(fig, {}); } );\n",
       "    button.mouseover('Stop Interaction', toolbar_mouse_event);\n",
       "    buttongrp.append(button);\n",
       "    var titlebar = this.root.find($('.ui-dialog-titlebar'));\n",
       "    titlebar.prepend(buttongrp);\n",
       "}\n",
       "\n",
       "mpl.figure.prototype._root_extra_style = function(el){\n",
       "    var fig = this\n",
       "    el.on(\"remove\", function(){\n",
       "\tfig.close_ws(fig, {});\n",
       "    });\n",
       "}\n",
       "\n",
       "mpl.figure.prototype._canvas_extra_style = function(el){\n",
       "    // this is important to make the div 'focusable\n",
       "    el.attr('tabindex', 0)\n",
       "    // reach out to IPython and tell the keyboard manager to turn it's self\n",
       "    // off when our div gets focus\n",
       "\n",
       "    // location in version 3\n",
       "    if (IPython.notebook.keyboard_manager) {\n",
       "        IPython.notebook.keyboard_manager.register_events(el);\n",
       "    }\n",
       "    else {\n",
       "        // location in version 2\n",
       "        IPython.keyboard_manager.register_events(el);\n",
       "    }\n",
       "\n",
       "}\n",
       "\n",
       "mpl.figure.prototype._key_event_extra = function(event, name) {\n",
       "    var manager = IPython.notebook.keyboard_manager;\n",
       "    if (!manager)\n",
       "        manager = IPython.keyboard_manager;\n",
       "\n",
       "    // Check for shift+enter\n",
       "    if (event.shiftKey && event.which == 13) {\n",
       "        this.canvas_div.blur();\n",
       "        // select the cell after this one\n",
       "        var index = IPython.notebook.find_cell_index(this.cell_info[0]);\n",
       "        IPython.notebook.select(index + 1);\n",
       "    }\n",
       "}\n",
       "\n",
       "mpl.figure.prototype.handle_save = function(fig, msg) {\n",
       "    fig.ondownload(fig, null);\n",
       "}\n",
       "\n",
       "\n",
       "mpl.find_output_cell = function(html_output) {\n",
       "    // Return the cell and output element which can be found *uniquely* in the notebook.\n",
       "    // Note - this is a bit hacky, but it is done because the \"notebook_saving.Notebook\"\n",
       "    // IPython event is triggered only after the cells have been serialised, which for\n",
       "    // our purposes (turning an active figure into a static one), is too late.\n",
       "    var cells = IPython.notebook.get_cells();\n",
       "    var ncells = cells.length;\n",
       "    for (var i=0; i<ncells; i++) {\n",
       "        var cell = cells[i];\n",
       "        if (cell.cell_type === 'code'){\n",
       "            for (var j=0; j<cell.output_area.outputs.length; j++) {\n",
       "                var data = cell.output_area.outputs[j];\n",
       "                if (data.data) {\n",
       "                    // IPython >= 3 moved mimebundle to data attribute of output\n",
       "                    data = data.data;\n",
       "                }\n",
       "                if (data['text/html'] == html_output) {\n",
       "                    return [cell, data, j];\n",
       "                }\n",
       "            }\n",
       "        }\n",
       "    }\n",
       "}\n",
       "\n",
       "// Register the function which deals with the matplotlib target/channel.\n",
       "// The kernel may be null if the page has been refreshed.\n",
       "if (IPython.notebook.kernel != null) {\n",
       "    IPython.notebook.kernel.comm_manager.register_target('matplotlib', mpl.mpl_figure_comm);\n",
       "}\n"
      ],
      "text/plain": [
       "<IPython.core.display.Javascript object>"
      ]
     },
     "metadata": {},
     "output_type": "display_data"
    },
    {
     "data": {
      "text/html": [
       "<img src=\"data:image/png;base64,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\" width=\"640\">"
      ],
      "text/plain": [
       "<IPython.core.display.HTML object>"
      ]
     },
     "metadata": {},
     "output_type": "display_data"
    }
   ],
   "source": [
    "# Make an interactive 3D plot\n",
    "%matplotlib notebook\n",
    "from mpl_toolkits.mplot3d import Axes3D\n",
    "fig = plt.figure()\n",
    "\n",
    "ax = fig.add_subplot(111, projection='3d')\n",
    "\n",
    "# set axis labels\n",
    "ax.set_xlabel('x [' + str(unit_x) + ']')\n",
    "ax.set_ylabel('y [' + str(unit_y) + ']')\n",
    "ax.set_zlabel('z [' + str(unit_z) + ']')\n",
    "\n",
    "# plot the data\n",
    "cm = plt.cm.get_cmap('plasma')\n",
    "\n",
    "ax.scatter(data['x'], data['y'], data['z'], s=0.7, c=data['snapnum'], depthshade=True, cmap=cm)\n",
    "plt.show()"
   ]
  },
  {
   "cell_type": "markdown",
   "metadata": {},
   "source": [
    "Delete your job on the server:"
   ]
  },
  {
   "cell_type": "code",
   "execution_count": 267,
   "metadata": {
    "collapsed": false
   },
   "outputs": [
    {
     "data": {
      "text/plain": [
       "True"
      ]
     },
     "execution_count": 267,
     "metadata": {},
     "output_type": "execute_result"
    }
   ],
   "source": [
    "deleted = c.delete_job(job.job_id)\n",
    "deleted"
   ]
  }
 ],
 "metadata": {
  "kernelspec": {
   "display_name": "Python 2",
   "language": "python",
   "name": "python2"
  },
  "language_info": {
   "codemirror_mode": {
    "name": "ipython",
    "version": 2
   },
   "file_extension": ".py",
   "mimetype": "text/x-python",
   "name": "python",
   "nbconvert_exporter": "python",
   "pygments_lexer": "ipython2",
   "version": "2.7.12"
  }
 },
 "nbformat": 4,
 "nbformat_minor": 2
}
