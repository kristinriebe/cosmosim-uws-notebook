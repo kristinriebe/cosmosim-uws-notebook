{
 "cells": [
  {
   "cell_type": "markdown",
   "metadata": {},
   "source": [
    "# Exploring cosmological simulations with CosmoSim\n",
    "## Introduction to job handling with uws-client\n",
    "\n",
    "CosmoSim is a web application available at http://www.cosmosim.org/ where data from cosmological simulations is available. This includes catalogues of dark matter halos (clusters) and galaxies for different time steps during the evolution of the simulated universe, merging information, substructure data, density fields and more.\n",
    "\n",
    "In this tutorial, we will use the [uws-client](https://github.com/aipescience/uws-client) for connecting with CosmoSim's UWS-interface for seeing your list of jobs, sending jobs and retrieving results."
   ]
  },
  {
   "cell_type": "markdown",
   "metadata": {},
   "source": [
    "## Imports\n",
    "Import the necessary libraries and the UWS module from the uws-client:"
   ]
  },
  {
   "cell_type": "code",
   "execution_count": 212,
   "metadata": {
    "collapsed": true
   },
   "outputs": [],
   "source": [
    "# load astropy for reading VOTABLE format\n",
    "from astropy.io.votable import parse_single_table\n",
    "\n",
    "# import matplotlib for plotting results\n",
    "import matplotlib.pyplot as plt"
   ]
  },
  {
   "cell_type": "code",
   "execution_count": 213,
   "metadata": {
    "collapsed": false
   },
   "outputs": [],
   "source": [
    "# import sys\n",
    "# sys.path.append('<your own path>/uws-client')\n",
    "\n",
    "from uws import UWS"
   ]
  },
  {
   "cell_type": "markdown",
   "metadata": {},
   "source": [
    "## Setup the connection\n",
    "\n",
    "The URL for connecting with CosmoSim's uws-client is 'https://www.cosmosim.org/uws/query/'. You also need to define your username and password, either by inserting it directly below or by saving your credentials in a local cosmosim-user.json file and reading it here. The credentials are the same as on the CosmoSim webpage. If you do not have an account yet, please register at [CosmoSim registration](https://www.cosmosim.org/auth/registration/register). Alternatively, you can use the user `uwstest` with password `gavo` for testing purposes. (Be aware that anyone can use this user and delete your results at any time!)\n"
   ]
  },
  {
   "cell_type": "code",
   "execution_count": 17,
   "metadata": {
    "collapsed": false
   },
   "outputs": [],
   "source": [
    "# set credentials here:\n",
    "# username = 'uwstest'\n",
    "# password = 'gavo'\n",
    "\n",
    "# or read your own username and password from a json-file,\n",
    "# format: { \"username\": \"<yourname>\", \"password\": \"<your password>\" }\n",
    "import json\n",
    "with open('cosmosim-user.json') as credentials_file:    \n",
    "    username, password = json.load(credentials_file).values()\n",
    "\n",
    "url = 'https://www.cosmosim.org/uws/query/'\n",
    "c = UWS.client.Client(url, username, password)"
   ]
  },
  {
   "cell_type": "markdown",
   "metadata": {},
   "source": [
    "## List previous jobs\n",
    "Once the connection is set up, you can retrieve the list of previously run jobs with `c.get_job_list()`. You can also provide extra filters for the job list, e.g. filtering by phase or creation time of the job or just output the most recent ones using the `last` keyword."
   ]
  },
  {
   "cell_type": "code",
   "execution_count": 67,
   "metadata": {
    "collapsed": false
   },
   "outputs": [
    {
     "name": "stdout",
     "output_type": "stream",
     "text": [
      "Job '1489393683792045078' in phase 'PENDING' created at '2017-03-13T09:28:03+01:00' - https://www.cosmosim.org/uws/query/1489393683792045078\n",
      "Job '1489390719480540687' in phase 'ERROR' created at '2017-03-13T08:38:39+01:00' - https://www.cosmosim.org/uws/query/1489390719480540687\n",
      "Job '1489158214227556580' in phase 'COMPLETED' created at '2017-03-10T16:03:34+01:00' - https://www.cosmosim.org/uws/query/1489158214227556580\n",
      "Job '1489158153978380359' in phase 'COMPLETED' created at '2017-03-10T16:02:33+01:00' - https://www.cosmosim.org/uws/query/1489158153978380359\n",
      "Job '1489158094195514088' in phase 'COMPLETED' created at '2017-03-10T16:01:34+01:00' - https://www.cosmosim.org/uws/query/1489158094195514088\n",
      "\n"
     ]
    }
   ],
   "source": [
    "filters = {'phases': ['PENDING', 'COMPLETED', 'ERROR'], 'last': 5}\n",
    "jobs = c.get_job_list(filters)\n",
    "\n",
    "# printing the returned resulting jobs-object gives a list of jobs\n",
    "print jobs"
   ]
  },
  {
   "cell_type": "markdown",
   "metadata": {},
   "source": [
    "For each job, its unique id, ownerId, creationTime and phase are stored within this job list. \n",
    "At CosmoSim, we store the table name as the `runId` for each job. If no table name was given during job creation, the current timestamp is used."
   ]
  },
  {
   "cell_type": "code",
   "execution_count": 30,
   "metadata": {
    "collapsed": false
   },
   "outputs": [
    {
     "name": "stdout",
     "output_type": "stream",
     "text": [
      "# jobId, ownerId, creationTime, phase, runId:\n",
      "1489158214227556580 uwstest 2017-03-10T16:03:34+01:00 COMPLETED 2017-03-10-16-03-34-2251\n",
      "1489158153978380359 uwstest 2017-03-10T16:02:33+01:00 COMPLETED 2017-03-10-16-02-33-9759\n",
      "1489158094195514088 uwstest 2017-03-10T16:01:34+01:00 COMPLETED 2017-03-10-16-01-34-1929\n",
      "1489158062282761682 uwstest 2017-03-10T16:01:02+01:00 COMPLETED 2017-03-10-16-01-02-2808\n",
      "1489158030472308573 uwstest 2017-03-10T16:00:30+01:00 COMPLETED 2017-03-10-16-00-30-4699\n"
     ]
    }
   ],
   "source": [
    "print \"# jobId, ownerId, creationTime, phase, runId:\"\n",
    "for job in jobs.job_reference:\n",
    "    print job.id, job.ownerId, job.creationTime, job.phase[0], job.runId"
   ]
  },
  {
   "cell_type": "markdown",
   "metadata": {},
   "source": [
    "## Create, check and run a job\n",
    "\n",
    "For creating a new job, first define the necessary parameters. For CosmoSim this is `query`, which is the SQL string and the optional parameters `queue` (long or short) and `table` (a unique table name). We set here an SQL query that will select the 10 most massive clusters from the MDPL2 simulation, Rockstar catalog."
   ]
  },
  {
   "cell_type": "code",
   "execution_count": 71,
   "metadata": {
    "collapsed": true
   },
   "outputs": [],
   "source": [
    "parameters = {'query': \n",
    "              'SELECT rockstarId, x,y,z, Mvir FROM MDPL2.Rockstar'\\\n",
    "                + ' WHERE snapnum=125 ORDER BY Mvir DESC LIMIT 10',\n",
    "              'queue': 'short'}"
   ]
  },
  {
   "cell_type": "markdown",
   "metadata": {},
   "source": [
    "Now **create a new job** with these parameters:"
   ]
  },
  {
   "cell_type": "code",
   "execution_count": 72,
   "metadata": {
    "collapsed": false
   },
   "outputs": [],
   "source": [
    "job = c.new_job(parameters)"
   ]
  },
  {
   "cell_type": "markdown",
   "metadata": {},
   "source": [
    "And print the job's id and phase:"
   ]
  },
  {
   "cell_type": "code",
   "execution_count": 73,
   "metadata": {
    "collapsed": false
   },
   "outputs": [
    {
     "name": "stdout",
     "output_type": "stream",
     "text": [
      "1489393922402608701 PENDING\n"
     ]
    }
   ],
   "source": [
    "print job.job_id, job.phase[0]"
   ]
  },
  {
   "cell_type": "markdown",
   "metadata": {},
   "source": [
    "The job is created now, but it is not started yet - you can still adjust its parameters with c.set_parameters_job. E.g. let's change the queue to long:"
   ]
  },
  {
   "cell_type": "code",
   "execution_count": 74,
   "metadata": {
    "collapsed": false
   },
   "outputs": [],
   "source": [
    "update_params = {'queue': 'long'}\n",
    "job = c.set_parameters_job(job.job_id, update_params)"
   ]
  },
  {
   "cell_type": "markdown",
   "metadata": {},
   "source": [
    "Print the parameters to check this:"
   ]
  },
  {
   "cell_type": "code",
   "execution_count": 75,
   "metadata": {
    "collapsed": false
   },
   "outputs": [
    {
     "name": "stdout",
     "output_type": "stream",
     "text": [
      "queue long\n",
      "query SELECT rockstarId, x,y,z, Mvir FROM MDPL2.Rockstar WHERE snapnum=125 ORDER BY Mvir DESC LIMIT 10\n"
     ]
    }
   ],
   "source": [
    "for p in job.parameters:\n",
    "    print p.id, p.value"
   ]
  },
  {
   "cell_type": "markdown",
   "metadata": {},
   "source": [
    "Now **start the job**, i.e. put it into the job queue using `run_job`:"
   ]
  },
  {
   "cell_type": "code",
   "execution_count": 76,
   "metadata": {
    "collapsed": false
   },
   "outputs": [
    {
     "name": "stdout",
     "output_type": "stream",
     "text": [
      "1489393922402608701\n"
     ]
    }
   ],
   "source": [
    "run = c.run_job(job.job_id)\n",
    "print run.job_id"
   ]
  },
  {
   "cell_type": "markdown",
   "metadata": {},
   "source": [
    "The job should now also be visible in the web interface, at the Query Interface, left side, under 'Jobs'.  \n",
    "Let's check the job's phase: "
   ]
  },
  {
   "cell_type": "code",
   "execution_count": 77,
   "metadata": {
    "collapsed": false
   },
   "outputs": [
    {
     "name": "stdout",
     "output_type": "stream",
     "text": [
      "QUEUED\n"
     ]
    }
   ],
   "source": [
    "job = c.get_job(run.job_id)\n",
    "print job.phase[0]\n"
   ]
  },
  {
   "cell_type": "markdown",
   "metadata": {},
   "source": [
    "You can also use the `wait` parameter to wait at most the specified number of seconds until the phase has changed:"
   ]
  },
  {
   "cell_type": "code",
   "execution_count": 78,
   "metadata": {
    "collapsed": false
   },
   "outputs": [
    {
     "name": "stdout",
     "output_type": "stream",
     "text": [
      "COMPLETED\n"
     ]
    }
   ],
   "source": [
    "job = c.get_job(run.job_id, '10', 'QUEUED')\n",
    "print job.phase[0]"
   ]
  },
  {
   "cell_type": "markdown",
   "metadata": {},
   "source": [
    "Repeat the step above using \"EXECUTING\" as job phase until the job phase is \"COMPLETED\"."
   ]
  },
  {
   "cell_type": "code",
   "execution_count": 191,
   "metadata": {
    "collapsed": false
   },
   "outputs": [
    {
     "name": "stdout",
     "output_type": "stream",
     "text": [
      "COMPLETED\n"
     ]
    }
   ],
   "source": [
    "job = c.get_job(run.job_id, '10', 'EXECUTING')\n",
    "print job.phase[0]"
   ]
  },
  {
   "cell_type": "markdown",
   "metadata": {},
   "source": [
    "## Get the results"
   ]
  },
  {
   "cell_type": "markdown",
   "metadata": {},
   "source": [
    "Once your job is in \"COMPLETED\" phase, you can retrieve the results.\n",
    "\n",
    "Print the job result entries:"
   ]
  },
  {
   "cell_type": "code",
   "execution_count": 192,
   "metadata": {
    "collapsed": false
   },
   "outputs": [
    {
     "name": "stdout",
     "output_type": "stream",
     "text": [
      "Result id 'csv' reference: https://www.cosmosim.org/query/download/stream/table/2017-03-13-09-32-13-6377/format/csv\n",
      "Result id 'votable.xml' reference: https://www.cosmosim.org/query/download/stream/table/2017-03-13-09-32-13-6377/format/votable\n",
      "Result id 'votableB1.xml' reference: https://www.cosmosim.org/query/download/stream/table/2017-03-13-09-32-13-6377/format/votableB1\n",
      "Result id 'votableB2.xml' reference: https://www.cosmosim.org/query/download/stream/table/2017-03-13-09-32-13-6377/format/votableB2\n"
     ]
    }
   ],
   "source": [
    "for r in job.results:\n",
    "    print r"
   ]
  },
  {
   "cell_type": "markdown",
   "metadata": {},
   "source": [
    "With `r.reference` you can access the URL of each result. Let's download the results in VOTABLE format:"
   ]
  },
  {
   "cell_type": "code",
   "execution_count": 193,
   "metadata": {
    "collapsed": false
   },
   "outputs": [
    {
     "name": "stdout",
     "output_type": "stream",
     "text": [
      "File downloaded successfully.\n"
     ]
    }
   ],
   "source": [
    "fileurl = str(job.results[1].reference)\n",
    "resultfilename = \"result.xml\"\n",
    "success = c.connection.download_file(fileurl, username, password, file_name=resultfilename)\n",
    "if not success:\n",
    "    print \"File could not be downloaded, please check the job phase and result urls.\"\n",
    "else:\n",
    "    print \"File downloaded successfully.\""
   ]
  },
  {
   "cell_type": "markdown",
   "metadata": {},
   "source": [
    "Since there is only one table, we can quickly read the VOTABLE into a numpy array using astropy:"
   ]
  },
  {
   "cell_type": "code",
   "execution_count": 194,
   "metadata": {
    "collapsed": false
   },
   "outputs": [],
   "source": [
    "table = parse_single_table(resultfilename, pedantic=False)\n",
    "data = table.array"
   ]
  },
  {
   "cell_type": "markdown",
   "metadata": {},
   "source": [
    "Print the results row by row:"
   ]
  },
  {
   "cell_type": "code",
   "execution_count": 195,
   "metadata": {
    "collapsed": false
   },
   "outputs": [
    {
     "name": "stdout",
     "output_type": "stream",
     "text": [
      "[ (1, 12663401752, 669.8790283203125, 197.093994140625, 960.0079956054688, 3502699911839744.0)\n",
      " (2, 12568957065, 6.296500205993652, 61.284698486328125, 512.0330200195312, 2610899881820160.0)\n",
      " (3, 12657871796, 644.135986328125, 671.8619995117188, 241.302001953125, 2464100047126528.0)\n",
      " (4, 12690066801, 915.3740234375, 140.13499450683594, 875.5419921875, 2458800057483264.0)\n",
      " (5, 12698654951, 958.1680297851562, 73.85369873046875, 974.68701171875, 2382099994640384.0)\n",
      " (6, 12690125164, 900.3259887695312, 142.45199584960938, 944.1580200195312, 2362299926970368.0)\n",
      " (7, 12636014904, 486.2460021972656, 231.9550018310547, 903.6859741210938, 2269899879612416.0)\n",
      " (8, 12577987103, 12.169500350952148, 960.385009765625, 944.1920166015625, 2244000018857984.0)\n",
      " (9, 12656411108, 606.7890014648438, 487.3819885253906, 619.7739868164062, 2154799990571008.0)\n",
      " (10, 12578986015, 121.9729995727539, 76.42739868164062, 770.2570190429688, 2027799955111936.0)]\n"
     ]
    }
   ],
   "source": [
    "print data"
   ]
  },
  {
   "cell_type": "markdown",
   "metadata": {},
   "source": [
    "Or print only a column:"
   ]
  },
  {
   "cell_type": "code",
   "execution_count": 196,
   "metadata": {
    "collapsed": false
   },
   "outputs": [
    {
     "name": "stdout",
     "output_type": "stream",
     "text": [
      "[669.8790283203125 6.296500205993652 644.135986328125 915.3740234375\n",
      " 958.1680297851562 900.3259887695312 486.2460021972656 12.169500350952148\n",
      " 606.7890014648438 121.9729995727539]\n"
     ]
    }
   ],
   "source": [
    "print data['x']"
   ]
  },
  {
   "cell_type": "markdown",
   "metadata": {},
   "source": [
    "Get the units for x and y values:"
   ]
  },
  {
   "cell_type": "code",
   "execution_count": 197,
   "metadata": {
    "collapsed": false
   },
   "outputs": [
    {
     "name": "stdout",
     "output_type": "stream",
     "text": [
      "Units for x and y:  Mpc / h Mpc / h\n"
     ]
    }
   ],
   "source": [
    "field = table.get_field_by_id('x')\n",
    "unit_x = field.unit\n",
    "field = table.get_field_by_id('y')\n",
    "unit_y = field.unit\n",
    "\n",
    "print \"Units for x and y: \", unit_x, unit_y"
   ]
  },
  {
   "cell_type": "markdown",
   "metadata": {},
   "source": [
    "## Plot results"
   ]
  },
  {
   "cell_type": "code",
   "execution_count": 199,
   "metadata": {
    "collapsed": false
   },
   "outputs": [
    {
     "data": {
      "image/png": "[encoded data removed]",
      "text/plain": [
       "<matplotlib.figure.Figure at 0x7fa6683d5c50>"
      ]
     },
     "metadata": {},
     "output_type": "display_data"
    }
   ],
   "source": [
    "ax = plt.subplot(111)\n",
    "\n",
    "# set axis labels\n",
    "ax.set_xlabel('x [' + str(unit_x) + ']')\n",
    "ax.set_ylabel('y [' + str(unit_y) + ']')\n",
    "\n",
    "# set axis range\n",
    "ax.set_xlim(0, 1000)\n",
    "ax.set_ylim(0, 1000)\n",
    "\n",
    "# plot data,\n",
    "# using decreasing point size,\n",
    "# so the biggest point is the most massive object\n",
    "s = range(20,0,-2)\n",
    "ax.scatter(data['x'], data['y'], s, color='b');\n",
    "plt.show()"
   ]
  },
  {
   "cell_type": "markdown",
   "metadata": {},
   "source": [
    "## Example: Retrieve progenitors of a halo\n",
    "\n",
    "Let's do a more elaborate example: for the most massive dark matter halo from the previous query, get its progenitors that merged into this halo and plot their positions over time. We restrict the progenitors to those with mass > 1.e12/h solar masses."
   ]
  },
  {
   "cell_type": "code",
   "execution_count": 201,
   "metadata": {
    "collapsed": false
   },
   "outputs": [],
   "source": [
    "most_massive_rockstarId = data[0]['rockstarId']"
   ]
  },
  {
   "cell_type": "code",
   "execution_count": 229,
   "metadata": {
    "collapsed": true
   },
   "outputs": [],
   "source": [
    "query = \"\"\"\n",
    "SELECT p.rockstarId, p.snapnum as snapnum, p.x as x, p.y as y, p.z as z, p.Mvir as Mvir, p.Rvir as Rvir\n",
    "FROM MDPL2.Rockstar AS p,\n",
    "  (SELECT depthFirstId, lastProg_depthFirstId FROM MDPL2.Rockstar\n",
    "  WHERE rockstarId = \"\"\" + str(most_massive_rockstarId) + \"\"\") AS m\n",
    "WHERE p.depthFirstId BETWEEN m.depthFirstId AND m.lastProg_depthFirstId\n",
    "AND p.Mvir > 1.e11\n",
    "ORDER BY snapnum\n",
    "\"\"\"\n"
   ]
  },
  {
   "cell_type": "markdown",
   "metadata": {},
   "source": [
    "Create and start the job:"
   ]
  },
  {
   "cell_type": "code",
   "execution_count": 230,
   "metadata": {
    "collapsed": false
   },
   "outputs": [
    {
     "name": "stdout",
     "output_type": "stream",
     "text": [
      "PENDING\n"
     ]
    }
   ],
   "source": [
    "job = c.new_job({'query': query})\n",
    "if job.phase[0] != \"PENDING\":\n",
    "    print \"ERROR: not in pending phase!\"\n",
    "else:\n",
    "    run = c.run_job(job.job_id)\n",
    "print job.phase[0]"
   ]
  },
  {
   "cell_type": "markdown",
   "metadata": {},
   "source": [
    "Check the status and wait until it is finished (this can take a couple of minutes!!):"
   ]
  },
  {
   "cell_type": "code",
   "execution_count": 231,
   "metadata": {
    "collapsed": false
   },
   "outputs": [
    {
     "name": "stdout",
     "output_type": "stream",
     "text": [
      "Time out or job is not in QUEUED phase anymore.\n",
      "Time out or job is not in EXECUTING phase anymore.\n",
      "Job phase:  COMPLETED\n",
      "JobId : '1489409192044570091'\n",
      "RunId : '2017-03-13-13-46-32-2356'\n",
      "OwnerId : 'uwstest'\n",
      "Phase : 'COMPLETED'\n",
      "Quote : 'None'\n",
      "CreationTime : '2017-03-13T13:46:32+01:00'\n",
      "StartTime : '2017-03-13T13:46:33+01:00'\n",
      "EndTime : '2017-03-13T13:46:33+01:00'\n",
      "ExecutionDuration : '40'\n",
      "Destruction : '2999-12-31T00:00:00+01:00'\n",
      "Parameters :\n",
      "Parameter id 'database' byRef: False is_post: False - value: cosmosim_user_uwstest\n",
      "Parameter id 'table' byRef: False is_post: False - value: 2017-03-13-13-46-32-2356\n",
      "Parameter id 'query' byRef: False is_post: False - value: \n",
      "SELECT p.rockstarId, p.snapnum as snapnum, p.x as x, p.y as y, p.z as z, p.Mvir as Mvir, p.Rvir as Rvir\n",
      "FROM MDPL2.Rockstar AS p,\n",
      "  (SELECT depthFirstId, lastProg_depthFirstId FROM MDPL2.Rockstar\n",
      "  WHERE rockstarId = 12663401752) AS m\n",
      "WHERE p.depthFirstId BETWEEN m.depthFirstId AND m.lastProg_depthFirstId\n",
      "AND p.Mvir > 1.e11\n",
      "ORDER BY snapnum\n",
      "\n",
      "-- The query plan used to run this query: --\n",
      "--------------------------------------------\n",
      "--\n",
      "-- CALL paquExec('SELECT `depthFirstId` AS `depthFirstId`,`lastProg_depthFirstId` AS `lastProg_depthFirstId` FROM MDPL2.Rockstar WHERE ( `rockstarId` = 12663401752 )   ', 'aggregation_tmp_58242142');\n",
      "-- CALL paquExec('SELECT `p`.`rockstarId` AS `p.rockstarId`,`p`.`snapnum` AS `snapnum`,`p`.`x` AS `x`,`p`.`y` AS `y`,`p`.`z` AS `z`,`p`.`Mvir` AS `Mvir`,`p`.`Rvir` AS `Rvir` FROM MDPL2.Rockstar AS `p` JOIN ( SELECT `depthFirstId`,`lastProg_depthFirstId` FROM `aggregation_tmp_58242142`   ) AS `m`  WHERE ( `p`.`Mvir` > 1.e11 ) AND ( `p`.`depthFirstId` BETWEEN `m`.`depthFirstId` AND `m`.`lastProg_depthFirstId` )   ', 'aggregation_tmp_82600524');\n",
      "-- CALL paquDropTmp('aggregation_tmp_58242142');\n",
      "-- USE spider_tmp_shard; SET @i=0; CREATE TABLE cosmosim_user_uwstest.`2017-03-13-13-46-32-2356` ENGINE=MyISAM SELECT @i:=@i+1 AS `row_id`,  `p.rockstarId`,`snapnum`,`x`,`y`,`z`,`Mvir`,`Rvir`\n",
      "FROM `aggregation_tmp_82600524`  ORDER BY `snapnum` ASC ;\n",
      "-- CALL paquDropTmp('aggregation_tmp_82600524');\n",
      "\n",
      "Parameter id 'queue' byRef: False is_post: False - value: short\n",
      "Results :\n",
      "Result id 'csv' reference: https://www.cosmosim.org/query/download/stream/table/2017-03-13-13-46-32-2356/format/csv\n",
      "Result id 'votable.xml' reference: https://www.cosmosim.org/query/download/stream/table/2017-03-13-13-46-32-2356/format/votable\n",
      "Result id 'votableB1.xml' reference: https://www.cosmosim.org/query/download/stream/table/2017-03-13-13-46-32-2356/format/votableB1\n",
      "Result id 'votableB2.xml' reference: https://www.cosmosim.org/query/download/stream/table/2017-03-13-13-46-32-2356/format/votableB2\n",
      "errorSummary :\n",
      " False\n",
      "jobInfo :\n",
      "\n"
     ]
    }
   ],
   "source": [
    "job = c.get_job(run.job_id, '60', 'QUEUED')\n",
    "print \"Time out or job is not in QUEUED phase anymore.\"\n",
    "job = c.get_job(run.job_id, '60', 'EXECUTING')\n",
    "print \"Time out or job is not in EXECUTING phase anymore.\"\n",
    "print \"Job phase: \", job.phase[0]\n",
    "print job"
   ]
  },
  {
   "cell_type": "markdown",
   "metadata": {},
   "source": [
    "Retrieve the results:"
   ]
  },
  {
   "cell_type": "code",
   "execution_count": 232,
   "metadata": {
    "collapsed": false
   },
   "outputs": [
    {
     "name": "stdout",
     "output_type": "stream",
     "text": [
      "File downloaded successfully.\n"
     ]
    }
   ],
   "source": [
    "fileurl = str(job.results[1].reference)\n",
    "resultfilename = \"result.xml\"\n",
    "success = c.connection.download_file(fileurl, username, password, file_name=resultfilename)\n",
    "if not success:\n",
    "    print \"File could not be downloaded, please check the job phase and result urls.\"\n",
    "else:\n",
    "    print \"File downloaded successfully.\""
   ]
  },
  {
   "cell_type": "markdown",
   "metadata": {},
   "source": [
    "Plot the positions of the progenitor halos, colored by snapshot number (increasing time):"
   ]
  },
  {
   "cell_type": "code",
   "execution_count": 233,
   "metadata": {
    "collapsed": false
   },
   "outputs": [
    {
     "name": "stderr",
     "output_type": "stream",
     "text": [
      "WARNING: W03: result.xml:10:1: W03: Implicitly generating an ID from a name '2017-03-13-13-46-32-2356' -> '_2017-03-13-13-46-32-2356' [astropy.io.votable.exceptions]\n"
     ]
    }
   ],
   "source": [
    "table = parse_single_table(resultfilename, pedantic=False)\n",
    "data = table.array\n",
    "\n",
    "field = table.get_field_by_id('x')\n",
    "unit_x = field.unit\n",
    "field = table.get_field_by_id('y')\n",
    "unit_y = field.unit\n",
    "field = table.get_field_by_id('z')\n",
    "unit_z = field.unit\n"
   ]
  },
  {
   "cell_type": "code",
   "execution_count": 234,
   "metadata": {
    "collapsed": false
   },
   "outputs": [
    {
     "data": {
      "image/png": "[encoded data removed]",
      "text/plain": [
       "<matplotlib.figure.Figure at 0x7fa66888e090>"
      ]
     },
     "metadata": {},
     "output_type": "display_data"
    }
   ],
   "source": [
    "ax = plt.subplot(111)\n",
    "\n",
    "# set axis labels\n",
    "ax.set_xlabel('x [' + str(unit_x) + ']')\n",
    "ax.set_ylabel('y [' + str(unit_y) + ']')\n",
    "\n",
    "# set axis range\n",
    "#ax.set_xlim(0, 1000)\n",
    "#ax.set_ylim(0, 1000)\n",
    "\n",
    "# plot data,\n",
    "# color by snapnum, i.e. snapshot number, i.e. increasing time\n",
    "ax.scatter(data['x'], data['y'], s=0.7, c=data['snapnum'], alpha=0.5);\n",
    "plt.show()"
   ]
  },
  {
   "cell_type": "code",
   "execution_count": null,
   "metadata": {
    "collapsed": true
   },
   "outputs": [],
   "source": []
  }
 ],
 "metadata": {
  "kernelspec": {
   "display_name": "Python 2",
   "language": "python",
   "name": "python2"
  },
  "language_info": {
   "codemirror_mode": {
    "name": "ipython",
    "version": 2
   },
   "file_extension": ".py",
   "mimetype": "text/x-python",
   "name": "python",
   "nbconvert_exporter": "python",
   "pygments_lexer": "ipython2",
   "version": "2.7.12"
  }
 },
 "nbformat": 4,
 "nbformat_minor": 2
}
