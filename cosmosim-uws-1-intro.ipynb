{
 "cells": [
  {
   "cell_type": "markdown",
   "metadata": {},
   "source": [
    "# Exploring cosmological simulations with CosmoSim\n",
    "## Part 1: Introduction to job handling with uws-client\n",
    "\n",
    "CosmoSim is a web application available at http://www.cosmosim.org/ where data from cosmological simulations is available. This includes catalogues of dark matter halos (clusters) and galaxies for different time steps during the evolution of the simulated universe, merging information, substructure data, density fields and more.\n",
    "\n",
    "In this tutorial, we will use the [uws-client](https://github.com/aipescience/uws-client) for connecting with CosmoSim's UWS-interface for seeing your list of jobs, sending jobs and retrieving results."
   ]
  },
  {
   "cell_type": "markdown",
   "metadata": {},
   "source": [
    "## Imports\n",
    "Import the UWS module from the uws-client:"
   ]
  },
  {
   "cell_type": "code",
   "execution_count": 16,
   "metadata": {
    "collapsed": false
   },
   "outputs": [],
   "source": [
    "# import sys\n",
    "# sys.path.append('<your own path>/uws-client')\n",
    "\n",
    "from uws import UWS"
   ]
  },
  {
   "cell_type": "markdown",
   "metadata": {},
   "source": [
    "## Setup the connection\n",
    "\n",
    "The URL for connecting with CosmoSim's uws-client is 'https://www.cosmosim.org/uws/query/'. You also need to define your username and password, either by inserting it directly below or by saving your credentials in a local cosmosim-user.json file and reading it here. The credentials are the same as on the CosmoSim webpage. If you do not have an account yet, please register at [CosmoSim registration](https://www.cosmosim.org/auth/registration/register). Alternatively, you can use the user `uwstest` with password `gavo` for testing purposes. (Be aware that anyone can use this user and delete your results at any time!)\n"
   ]
  },
  {
   "cell_type": "code",
   "execution_count": 17,
   "metadata": {
    "collapsed": false
   },
   "outputs": [],
   "source": [
    "# set credentials here:\n",
    "# username = 'uwstest'\n",
    "# password = 'gavo'\n",
    "\n",
    "# or read them from a file:\n",
    "import json\n",
    "with open('cosmosim-user.json') as credentials_file:    \n",
    "    username, password = json.load(credentials_file).values()\n",
    "\n",
    "url = 'https://www.cosmosim.org/uws/query/'\n",
    "c = UWS.client.Client(url, username, password)"
   ]
  },
  {
   "cell_type": "markdown",
   "metadata": {},
   "source": [
    "## List previous jobs\n",
    "Once the connection is set up, you can retrieve the list of previously run jobs with `c.get_job_list()`. You can also provide extra filters for the job list, e.g. filtering by phase, creation time of the job or just output the most recent ones using the `last` keyword.\n"
   ]
  },
  {
   "cell_type": "code",
   "execution_count": 18,
   "metadata": {
    "collapsed": false
   },
   "outputs": [
    {
     "name": "stdout",
     "output_type": "stream",
     "text": [
      "Job '1489146266078541581' in phase 'PENDING' created at '2017-03-10T12:44:26+01:00' - https://www.cosmosim.org/uws/query/1489146266078541581\n",
      "Job '1489145816018354009' in phase 'PENDING' created at '2017-03-10T12:36:56+01:00' - https://www.cosmosim.org/uws/query/1489145816018354009\n",
      "Job '1489145811420913586' in phase 'PENDING' created at '2017-03-10T12:36:51+01:00' - https://www.cosmosim.org/uws/query/1489145811420913586\n",
      "Job '1489145803552326504' in phase 'PENDING' created at '2017-03-10T12:36:43+01:00' - https://www.cosmosim.org/uws/query/1489145803552326504\n",
      "Job '1489145792448936116' in phase 'PENDING' created at '2017-03-10T12:36:32+01:00' - https://www.cosmosim.org/uws/query/1489145792448936116\n",
      "\n"
     ]
    }
   ],
   "source": [
    "filters = {'phases': ['PENDING', 'COMPLETED'], 'last': 5}\n",
    "jobs = c.get_job_list(filters)\n",
    "print jobs"
   ]
  },
  {
   "cell_type": "markdown",
   "metadata": {},
   "source": [
    "For each job, its unique id, ownerId, creationTime and phase are stored within the job list:"
   ]
  },
  {
   "cell_type": "code",
   "execution_count": 19,
   "metadata": {
    "collapsed": false
   },
   "outputs": [
    {
     "name": "stdout",
     "output_type": "stream",
     "text": [
      "1489146266078541581 uwstest 2017-03-10T12:44:26+01:00 PENDING\n",
      "1489145816018354009 uwstest 2017-03-10T12:36:56+01:00 PENDING\n",
      "1489145811420913586 uwstest 2017-03-10T12:36:51+01:00 PENDING\n",
      "1489145803552326504 uwstest 2017-03-10T12:36:43+01:00 PENDING\n",
      "1489145792448936116 uwstest 2017-03-10T12:36:32+01:00 PENDING\n"
     ]
    }
   ],
   "source": [
    "for job in jobs.job_reference:\n",
    "    print job.id, job.ownerId, job.creationTime, job.phase[0]"
   ]
  },
  {
   "cell_type": "markdown",
   "metadata": {},
   "source": [
    "## Create and run a job\n",
    "\n",
    "For creating a new job, first define the necessary parameters. For CosmoSim this is 'query', which is the SQL string and the optional parameters 'queue' (long or short) and 'table' (a unique table name). We set here an SQL query that will select the 10 most massive clusters from the MDPL2 simulation, Rockstar catalog."
   ]
  },
  {
   "cell_type": "code",
   "execution_count": 20,
   "metadata": {
    "collapsed": true
   },
   "outputs": [],
   "source": [
    "parameters = {'query': \n",
    "              'SELECT rockstarId, x,y,z, Mvir FROM MDPL2.Rockstar'\\\n",
    "                + 'WHERE snapnum=125 ORDER BY Mvir DESC LIMIT 10',\n",
    "              'queue': 'short'}"
   ]
  },
  {
   "cell_type": "markdown",
   "metadata": {},
   "source": [
    "Now create a new job with these parameters:"
   ]
  },
  {
   "cell_type": "code",
   "execution_count": 22,
   "metadata": {
    "collapsed": false
   },
   "outputs": [],
   "source": [
    "job = c.new_job(parameters)"
   ]
  },
  {
   "cell_type": "markdown",
   "metadata": {},
   "source": [
    "The job is created now. It is not started yet - you can still adjust its parameters with job.parameters and you can check its properties."
   ]
  },
  {
   "cell_type": "code",
   "execution_count": 25,
   "metadata": {
    "collapsed": false
   },
   "outputs": [
    {
     "name": "stdout",
     "output_type": "stream",
     "text": [
      "Parameter id 'queue' byRef: False is_post: False - value: short\n"
     ]
    }
   ],
   "source": []
  },
  {
   "cell_type": "code",
   "execution_count": null,
   "metadata": {
    "collapsed": true
   },
   "outputs": [],
   "source": []
  }
 ],
 "metadata": {
  "kernelspec": {
   "display_name": "Python 2",
   "language": "python",
   "name": "python2"
  },
  "language_info": {
   "codemirror_mode": {
    "name": "ipython",
    "version": 2
   },
   "file_extension": ".py",
   "mimetype": "text/x-python",
   "name": "python",
   "nbconvert_exporter": "python",
   "pygments_lexer": "ipython2",
   "version": "2.7.12"
  }
 },
 "nbformat": 4,
 "nbformat_minor": 2
}
